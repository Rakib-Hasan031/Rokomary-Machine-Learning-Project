{
 "cells": [
  {
   "cell_type": "code",
   "execution_count": 1,
   "metadata": {},
   "outputs": [],
   "source": [
    "import numpy as np\n",
    "import pandas as pd\n",
    "import missingno\n",
    "import warnings\n",
    "import matplotlib\n",
    "import matplotlib.pyplot as plt\n",
    "import seaborn as sns\n",
    "warnings.filterwarnings(\"ignore\")\n",
    "%matplotlib inline\n",
    "from sklearn.model_selection import train_test_split\n",
    "from sklearn import preprocessing\n",
    "from sklearn.ensemble import RandomForestRegressor\n",
    "from sklearn.pipeline import make_pipeline\n",
    "from sklearn.model_selection import GridSearchCV\n",
    "from sklearn.metrics import mean_squared_error, r2_score\n",
    "from sklearn.externals import joblib"
   ]
  },
  {
   "cell_type": "code",
   "execution_count": 2,
   "metadata": {},
   "outputs": [],
   "source": [
    "# Imported Libraries\n",
    "\n",
    "import numpy as np # linear algebra\n",
    "import pandas as pd # data processing, CSV file I/O (e.g. pd.read_csv)\n",
    "import tensorflow as tf\n",
    "import matplotlib.pyplot as plt\n",
    "import seaborn as sns\n",
    "from sklearn.manifold import TSNE\n",
    "from sklearn.decomposition import PCA, TruncatedSVD\n",
    "import matplotlib.patches as mpatches\n",
    "import time\n",
    "\n",
    "# Classifier Libraries\n",
    "from sklearn.linear_model import LogisticRegression\n",
    "from sklearn.linear_model import LinearRegression\n",
    "from sklearn.svm import SVC\n",
    "from sklearn.neighbors import KNeighborsClassifier\n",
    "from sklearn.tree import DecisionTreeClassifier\n",
    "from sklearn.ensemble import RandomForestClassifier\n",
    "import collections\n",
    "from sklearn.pipeline import Pipeline\n",
    "from sklearn import preprocessing\n",
    "\n",
    "\n",
    "# Other Libraries\n",
    "from sklearn.model_selection import train_test_split\n",
    "from sklearn.pipeline import make_pipeline\n",
    "from sklearn.metrics import precision_score, recall_score, f1_score, roc_auc_score, accuracy_score, classification_report\n",
    "from collections import Counter\n",
    "from sklearn.model_selection import KFold, StratifiedKFold\n",
    "from sklearn.metrics import accuracy_score, log_loss\n",
    "from sklearn.neighbors import KNeighborsClassifier\n",
    "from sklearn.svm import SVC, LinearSVC, NuSVC\n",
    "from sklearn.tree import DecisionTreeClassifier\n",
    "from sklearn.ensemble import RandomForestClassifier, AdaBoostClassifier, GradientBoostingClassifier\n",
    "from sklearn.ensemble import RandomForestRegressor, AdaBoostRegressor, GradientBoostingRegressor\n",
    "from sklearn.tree import DecisionTreeRegressor"
   ]
  },
  {
   "cell_type": "code",
   "execution_count": 3,
   "metadata": {},
   "outputs": [],
   "source": [
    "df=pd.read_csv(\"data.train\", header= None)"
   ]
  },
  {
   "cell_type": "code",
   "execution_count": 4,
   "metadata": {},
   "outputs": [
    {
     "data": {
      "text/html": [
       "<div>\n",
       "<style scoped>\n",
       "    .dataframe tbody tr th:only-of-type {\n",
       "        vertical-align: middle;\n",
       "    }\n",
       "\n",
       "    .dataframe tbody tr th {\n",
       "        vertical-align: top;\n",
       "    }\n",
       "\n",
       "    .dataframe thead th {\n",
       "        text-align: right;\n",
       "    }\n",
       "</style>\n",
       "<table border=\"1\" class=\"dataframe\">\n",
       "  <thead>\n",
       "    <tr style=\"text-align: right;\">\n",
       "      <th></th>\n",
       "      <th>0</th>\n",
       "      <th>1</th>\n",
       "      <th>2</th>\n",
       "      <th>3</th>\n",
       "      <th>4</th>\n",
       "      <th>5</th>\n",
       "      <th>6</th>\n",
       "    </tr>\n",
       "  </thead>\n",
       "  <tbody>\n",
       "    <tr>\n",
       "      <th>0</th>\n",
       "      <td>25</td>\n",
       "      <td>0.08</td>\n",
       "      <td>8777</td>\n",
       "      <td>77</td>\n",
       "      <td>2</td>\n",
       "      <td>28.29</td>\n",
       "      <td>c</td>\n",
       "    </tr>\n",
       "    <tr>\n",
       "      <th>1</th>\n",
       "      <td>28</td>\n",
       "      <td>0.07</td>\n",
       "      <td>3182</td>\n",
       "      <td>34</td>\n",
       "      <td>4</td>\n",
       "      <td>26.76</td>\n",
       "      <td>a</td>\n",
       "    </tr>\n",
       "    <tr>\n",
       "      <th>2</th>\n",
       "      <td>19</td>\n",
       "      <td>0.03</td>\n",
       "      <td>7624</td>\n",
       "      <td>34</td>\n",
       "      <td>0</td>\n",
       "      <td>33.60</td>\n",
       "      <td>b</td>\n",
       "    </tr>\n",
       "    <tr>\n",
       "      <th>3</th>\n",
       "      <td>40</td>\n",
       "      <td>0.05</td>\n",
       "      <td>5443</td>\n",
       "      <td>89</td>\n",
       "      <td>4</td>\n",
       "      <td>31.61</td>\n",
       "      <td>b</td>\n",
       "    </tr>\n",
       "    <tr>\n",
       "      <th>4</th>\n",
       "      <td>16</td>\n",
       "      <td>0.02</td>\n",
       "      <td>1215</td>\n",
       "      <td>89</td>\n",
       "      <td>0</td>\n",
       "      <td>22.34</td>\n",
       "      <td>a</td>\n",
       "    </tr>\n",
       "  </tbody>\n",
       "</table>\n",
       "</div>"
      ],
      "text/plain": [
       "    0     1     2   3  4      5  6\n",
       "0  25  0.08  8777  77  2  28.29  c\n",
       "1  28  0.07  3182  34  4  26.76  a\n",
       "2  19  0.03  7624  34  0  33.60  b\n",
       "3  40  0.05  5443  89  4  31.61  b\n",
       "4  16  0.02  1215  89  0  22.34  a"
      ]
     },
     "execution_count": 4,
     "metadata": {},
     "output_type": "execute_result"
    }
   ],
   "source": [
    "df.head()"
   ]
  },
  {
   "cell_type": "code",
   "execution_count": 5,
   "metadata": {},
   "outputs": [],
   "source": [
    "headers=['age' , 'rok_index' , 'rok_summation' , 'promo_value' , 'event_value' ,\n",
    "'conversion_ratio' , 'class']\n",
    "df.columns=headers # replace default header by given data"
   ]
  },
  {
   "cell_type": "code",
   "execution_count": 6,
   "metadata": {},
   "outputs": [
    {
     "data": {
      "text/html": [
       "<div>\n",
       "<style scoped>\n",
       "    .dataframe tbody tr th:only-of-type {\n",
       "        vertical-align: middle;\n",
       "    }\n",
       "\n",
       "    .dataframe tbody tr th {\n",
       "        vertical-align: top;\n",
       "    }\n",
       "\n",
       "    .dataframe thead th {\n",
       "        text-align: right;\n",
       "    }\n",
       "</style>\n",
       "<table border=\"1\" class=\"dataframe\">\n",
       "  <thead>\n",
       "    <tr style=\"text-align: right;\">\n",
       "      <th></th>\n",
       "      <th>age</th>\n",
       "      <th>rok_index</th>\n",
       "      <th>rok_summation</th>\n",
       "      <th>promo_value</th>\n",
       "      <th>event_value</th>\n",
       "      <th>conversion_ratio</th>\n",
       "      <th>class</th>\n",
       "    </tr>\n",
       "  </thead>\n",
       "  <tbody>\n",
       "    <tr>\n",
       "      <th>0</th>\n",
       "      <td>25</td>\n",
       "      <td>0.08</td>\n",
       "      <td>8777</td>\n",
       "      <td>77</td>\n",
       "      <td>2</td>\n",
       "      <td>28.29</td>\n",
       "      <td>c</td>\n",
       "    </tr>\n",
       "    <tr>\n",
       "      <th>1</th>\n",
       "      <td>28</td>\n",
       "      <td>0.07</td>\n",
       "      <td>3182</td>\n",
       "      <td>34</td>\n",
       "      <td>4</td>\n",
       "      <td>26.76</td>\n",
       "      <td>a</td>\n",
       "    </tr>\n",
       "    <tr>\n",
       "      <th>2</th>\n",
       "      <td>19</td>\n",
       "      <td>0.03</td>\n",
       "      <td>7624</td>\n",
       "      <td>34</td>\n",
       "      <td>0</td>\n",
       "      <td>33.60</td>\n",
       "      <td>b</td>\n",
       "    </tr>\n",
       "    <tr>\n",
       "      <th>3</th>\n",
       "      <td>40</td>\n",
       "      <td>0.05</td>\n",
       "      <td>5443</td>\n",
       "      <td>89</td>\n",
       "      <td>4</td>\n",
       "      <td>31.61</td>\n",
       "      <td>b</td>\n",
       "    </tr>\n",
       "    <tr>\n",
       "      <th>4</th>\n",
       "      <td>16</td>\n",
       "      <td>0.02</td>\n",
       "      <td>1215</td>\n",
       "      <td>89</td>\n",
       "      <td>0</td>\n",
       "      <td>22.34</td>\n",
       "      <td>a</td>\n",
       "    </tr>\n",
       "  </tbody>\n",
       "</table>\n",
       "</div>"
      ],
      "text/plain": [
       "   age  rok_index  rok_summation  promo_value  event_value  conversion_ratio  \\\n",
       "0   25       0.08           8777           77            2             28.29   \n",
       "1   28       0.07           3182           34            4             26.76   \n",
       "2   19       0.03           7624           34            0             33.60   \n",
       "3   40       0.05           5443           89            4             31.61   \n",
       "4   16       0.02           1215           89            0             22.34   \n",
       "\n",
       "  class  \n",
       "0     c  \n",
       "1     a  \n",
       "2     b  \n",
       "3     b  \n",
       "4     a  "
      ]
     },
     "execution_count": 6,
     "metadata": {},
     "output_type": "execute_result"
    }
   ],
   "source": [
    "df.head() "
   ]
  },
  {
   "cell_type": "code",
   "execution_count": 7,
   "metadata": {},
   "outputs": [
    {
     "data": {
      "text/plain": [
       "(300, 7)"
      ]
     },
     "execution_count": 7,
     "metadata": {},
     "output_type": "execute_result"
    }
   ],
   "source": [
    "df.shape #shape of the array"
   ]
  },
  {
   "cell_type": "code",
   "execution_count": 8,
   "metadata": {},
   "outputs": [
    {
     "data": {
      "text/plain": [
       "2"
      ]
     },
     "execution_count": 8,
     "metadata": {},
     "output_type": "execute_result"
    }
   ],
   "source": [
    "df.ndim #dimension of the array"
   ]
  },
  {
   "cell_type": "markdown",
   "metadata": {},
   "source": [
    "# 1. Getting Started Analyzing data"
   ]
  },
  {
   "cell_type": "code",
   "execution_count": 9,
   "metadata": {},
   "outputs": [
    {
     "data": {
      "text/html": [
       "<div>\n",
       "<style scoped>\n",
       "    .dataframe tbody tr th:only-of-type {\n",
       "        vertical-align: middle;\n",
       "    }\n",
       "\n",
       "    .dataframe tbody tr th {\n",
       "        vertical-align: top;\n",
       "    }\n",
       "\n",
       "    .dataframe thead th {\n",
       "        text-align: right;\n",
       "    }\n",
       "</style>\n",
       "<table border=\"1\" class=\"dataframe\">\n",
       "  <thead>\n",
       "    <tr style=\"text-align: right;\">\n",
       "      <th></th>\n",
       "      <th>age</th>\n",
       "      <th>rok_index</th>\n",
       "      <th>rok_summation</th>\n",
       "      <th>promo_value</th>\n",
       "      <th>event_value</th>\n",
       "      <th>conversion_ratio</th>\n",
       "    </tr>\n",
       "  </thead>\n",
       "  <tbody>\n",
       "    <tr>\n",
       "      <th>count</th>\n",
       "      <td>300.000000</td>\n",
       "      <td>300.000000</td>\n",
       "      <td>300.000000</td>\n",
       "      <td>300.000000</td>\n",
       "      <td>300.000000</td>\n",
       "      <td>300.000000</td>\n",
       "    </tr>\n",
       "    <tr>\n",
       "      <th>mean</th>\n",
       "      <td>29.776667</td>\n",
       "      <td>0.052900</td>\n",
       "      <td>4961.773333</td>\n",
       "      <td>49.540000</td>\n",
       "      <td>2.863333</td>\n",
       "      <td>23.489700</td>\n",
       "    </tr>\n",
       "    <tr>\n",
       "      <th>std</th>\n",
       "      <td>11.863780</td>\n",
       "      <td>0.023899</td>\n",
       "      <td>2301.284968</td>\n",
       "      <td>23.669161</td>\n",
       "      <td>2.296862</td>\n",
       "      <td>6.163415</td>\n",
       "    </tr>\n",
       "    <tr>\n",
       "      <th>min</th>\n",
       "      <td>10.000000</td>\n",
       "      <td>0.010000</td>\n",
       "      <td>1035.000000</td>\n",
       "      <td>12.000000</td>\n",
       "      <td>0.000000</td>\n",
       "      <td>12.250000</td>\n",
       "    </tr>\n",
       "    <tr>\n",
       "      <th>25%</th>\n",
       "      <td>20.000000</td>\n",
       "      <td>0.030000</td>\n",
       "      <td>2952.000000</td>\n",
       "      <td>34.000000</td>\n",
       "      <td>1.000000</td>\n",
       "      <td>18.975000</td>\n",
       "    </tr>\n",
       "    <tr>\n",
       "      <th>50%</th>\n",
       "      <td>30.000000</td>\n",
       "      <td>0.050000</td>\n",
       "      <td>4958.500000</td>\n",
       "      <td>42.000000</td>\n",
       "      <td>3.000000</td>\n",
       "      <td>23.225000</td>\n",
       "    </tr>\n",
       "    <tr>\n",
       "      <th>75%</th>\n",
       "      <td>40.000000</td>\n",
       "      <td>0.070000</td>\n",
       "      <td>6861.250000</td>\n",
       "      <td>77.000000</td>\n",
       "      <td>4.000000</td>\n",
       "      <td>28.385000</td>\n",
       "    </tr>\n",
       "    <tr>\n",
       "      <th>max</th>\n",
       "      <td>50.000000</td>\n",
       "      <td>0.090000</td>\n",
       "      <td>8966.000000</td>\n",
       "      <td>89.000000</td>\n",
       "      <td>7.000000</td>\n",
       "      <td>34.540000</td>\n",
       "    </tr>\n",
       "  </tbody>\n",
       "</table>\n",
       "</div>"
      ],
      "text/plain": [
       "              age   rok_index  rok_summation  promo_value  event_value  \\\n",
       "count  300.000000  300.000000     300.000000   300.000000   300.000000   \n",
       "mean    29.776667    0.052900    4961.773333    49.540000     2.863333   \n",
       "std     11.863780    0.023899    2301.284968    23.669161     2.296862   \n",
       "min     10.000000    0.010000    1035.000000    12.000000     0.000000   \n",
       "25%     20.000000    0.030000    2952.000000    34.000000     1.000000   \n",
       "50%     30.000000    0.050000    4958.500000    42.000000     3.000000   \n",
       "75%     40.000000    0.070000    6861.250000    77.000000     4.000000   \n",
       "max     50.000000    0.090000    8966.000000    89.000000     7.000000   \n",
       "\n",
       "       conversion_ratio  \n",
       "count        300.000000  \n",
       "mean          23.489700  \n",
       "std            6.163415  \n",
       "min           12.250000  \n",
       "25%           18.975000  \n",
       "50%           23.225000  \n",
       "75%           28.385000  \n",
       "max           34.540000  "
      ]
     },
     "execution_count": 9,
     "metadata": {},
     "output_type": "execute_result"
    }
   ],
   "source": [
    "df.describe()"
   ]
  },
  {
   "cell_type": "code",
   "execution_count": 10,
   "metadata": {},
   "outputs": [
    {
     "data": {
      "text/plain": [
       "age                   int64\n",
       "rok_index           float64\n",
       "rok_summation         int64\n",
       "promo_value           int64\n",
       "event_value           int64\n",
       "conversion_ratio    float64\n",
       "class                object\n",
       "dtype: object"
      ]
     },
     "execution_count": 10,
     "metadata": {},
     "output_type": "execute_result"
    }
   ],
   "source": [
    "df.dtypes  #data types"
   ]
  },
  {
   "cell_type": "code",
   "execution_count": 11,
   "metadata": {},
   "outputs": [
    {
     "name": "stdout",
     "output_type": "stream",
     "text": [
      "<class 'pandas.core.frame.DataFrame'>\n",
      "RangeIndex: 300 entries, 0 to 299\n",
      "Data columns (total 7 columns):\n",
      "age                 300 non-null int64\n",
      "rok_index           300 non-null float64\n",
      "rok_summation       300 non-null int64\n",
      "promo_value         300 non-null int64\n",
      "event_value         300 non-null int64\n",
      "conversion_ratio    300 non-null float64\n",
      "class               300 non-null object\n",
      "dtypes: float64(2), int64(4), object(1)\n",
      "memory usage: 16.5+ KB\n"
     ]
    }
   ],
   "source": [
    "df.info()"
   ]
  },
  {
   "cell_type": "code",
   "execution_count": 12,
   "metadata": {},
   "outputs": [
    {
     "data": {
      "text/plain": [
       "age                 0\n",
       "rok_index           0\n",
       "rok_summation       0\n",
       "promo_value         0\n",
       "event_value         0\n",
       "conversion_ratio    0\n",
       "class               0\n",
       "dtype: int64"
      ]
     },
     "execution_count": 12,
     "metadata": {},
     "output_type": "execute_result"
    }
   ],
   "source": [
    "#Checking missing values\n",
    "df.isna().sum()"
   ]
  },
  {
   "cell_type": "code",
   "execution_count": 13,
   "metadata": {},
   "outputs": [
    {
     "data": {
      "text/plain": [
       "b    106\n",
       "c     97\n",
       "a     97\n",
       "Name: class, dtype: int64"
      ]
     },
     "execution_count": 13,
     "metadata": {},
     "output_type": "execute_result"
    }
   ],
   "source": [
    "#Count : Number of classes\n",
    "df['class'].value_counts()"
   ]
  },
  {
   "cell_type": "code",
   "execution_count": 14,
   "metadata": {},
   "outputs": [
    {
     "name": "stdout",
     "output_type": "stream",
     "text": [
      "a = 32.33 % of the dataset\n",
      "b = 35.33 % of the dataset\n",
      "c = 32.33 % of the dataset\n"
     ]
    }
   ],
   "source": [
    "# The classes ratio.\n",
    "print('a =', round(df['class'].value_counts()['a']/len(df) * 100,2), '% of the dataset')\n",
    "print('b =', round(df['class'].value_counts()['b']/len(df) * 100,2), '% of the dataset')\n",
    "print('c =', round(df['class'].value_counts()['c']/len(df) * 100,2), '% of the dataset')"
   ]
  },
  {
   "cell_type": "code",
   "execution_count": 15,
   "metadata": {},
   "outputs": [],
   "source": [
    "#Here, we convert our class into label from string to integer value\n",
    "label = df['class'].replace({\n",
    "    'a':1,\n",
    "    'b':2,\n",
    "    'c':3\n",
    "})"
   ]
  },
  {
   "cell_type": "code",
   "execution_count": 16,
   "metadata": {},
   "outputs": [],
   "source": [
    "df['label'] = label"
   ]
  },
  {
   "cell_type": "code",
   "execution_count": 17,
   "metadata": {},
   "outputs": [
    {
     "data": {
      "text/html": [
       "<div>\n",
       "<style scoped>\n",
       "    .dataframe tbody tr th:only-of-type {\n",
       "        vertical-align: middle;\n",
       "    }\n",
       "\n",
       "    .dataframe tbody tr th {\n",
       "        vertical-align: top;\n",
       "    }\n",
       "\n",
       "    .dataframe thead th {\n",
       "        text-align: right;\n",
       "    }\n",
       "</style>\n",
       "<table border=\"1\" class=\"dataframe\">\n",
       "  <thead>\n",
       "    <tr style=\"text-align: right;\">\n",
       "      <th></th>\n",
       "      <th>age</th>\n",
       "      <th>rok_index</th>\n",
       "      <th>rok_summation</th>\n",
       "      <th>promo_value</th>\n",
       "      <th>event_value</th>\n",
       "      <th>conversion_ratio</th>\n",
       "      <th>class</th>\n",
       "      <th>label</th>\n",
       "    </tr>\n",
       "  </thead>\n",
       "  <tbody>\n",
       "    <tr>\n",
       "      <th>0</th>\n",
       "      <td>25</td>\n",
       "      <td>0.08</td>\n",
       "      <td>8777</td>\n",
       "      <td>77</td>\n",
       "      <td>2</td>\n",
       "      <td>28.29</td>\n",
       "      <td>c</td>\n",
       "      <td>3</td>\n",
       "    </tr>\n",
       "    <tr>\n",
       "      <th>1</th>\n",
       "      <td>28</td>\n",
       "      <td>0.07</td>\n",
       "      <td>3182</td>\n",
       "      <td>34</td>\n",
       "      <td>4</td>\n",
       "      <td>26.76</td>\n",
       "      <td>a</td>\n",
       "      <td>1</td>\n",
       "    </tr>\n",
       "    <tr>\n",
       "      <th>2</th>\n",
       "      <td>19</td>\n",
       "      <td>0.03</td>\n",
       "      <td>7624</td>\n",
       "      <td>34</td>\n",
       "      <td>0</td>\n",
       "      <td>33.60</td>\n",
       "      <td>b</td>\n",
       "      <td>2</td>\n",
       "    </tr>\n",
       "    <tr>\n",
       "      <th>3</th>\n",
       "      <td>40</td>\n",
       "      <td>0.05</td>\n",
       "      <td>5443</td>\n",
       "      <td>89</td>\n",
       "      <td>4</td>\n",
       "      <td>31.61</td>\n",
       "      <td>b</td>\n",
       "      <td>2</td>\n",
       "    </tr>\n",
       "    <tr>\n",
       "      <th>4</th>\n",
       "      <td>16</td>\n",
       "      <td>0.02</td>\n",
       "      <td>1215</td>\n",
       "      <td>89</td>\n",
       "      <td>0</td>\n",
       "      <td>22.34</td>\n",
       "      <td>a</td>\n",
       "      <td>1</td>\n",
       "    </tr>\n",
       "  </tbody>\n",
       "</table>\n",
       "</div>"
      ],
      "text/plain": [
       "   age  rok_index  rok_summation  promo_value  event_value  conversion_ratio  \\\n",
       "0   25       0.08           8777           77            2             28.29   \n",
       "1   28       0.07           3182           34            4             26.76   \n",
       "2   19       0.03           7624           34            0             33.60   \n",
       "3   40       0.05           5443           89            4             31.61   \n",
       "4   16       0.02           1215           89            0             22.34   \n",
       "\n",
       "  class  label  \n",
       "0     c      3  \n",
       "1     a      1  \n",
       "2     b      2  \n",
       "3     b      2  \n",
       "4     a      1  "
      ]
     },
     "execution_count": 17,
     "metadata": {},
     "output_type": "execute_result"
    }
   ],
   "source": [
    "#Show our dataframe with a new coulumn \n",
    "df.head()"
   ]
  },
  {
   "cell_type": "markdown",
   "metadata": {},
   "source": [
    "# 2. Exploratory Data Analysis"
   ]
  },
  {
   "cell_type": "code",
   "execution_count": 18,
   "metadata": {},
   "outputs": [],
   "source": [
    "cols_target = ['age' , 'rok_index' , 'rok_summation' , 'promo_value' , 'event_value' ,\n",
    "'conversion_ratio','label']\n"
   ]
  },
  {
   "cell_type": "code",
   "execution_count": 19,
   "metadata": {},
   "outputs": [],
   "source": [
    "data = df[cols_target]"
   ]
  },
  {
   "cell_type": "code",
   "execution_count": 20,
   "metadata": {},
   "outputs": [
    {
     "data": {
      "text/plain": [
       "<matplotlib.axes._subplots.AxesSubplot at 0x2adc5977710>"
      ]
     },
     "execution_count": 20,
     "metadata": {},
     "output_type": "execute_result"
    },
    {
     "data": {
      "image/png": "[encoded data removed]",
      "text/plain": [
       "<Figure size 576x576 with 2 Axes>"
      ]
     },
     "metadata": {
      "needs_background": "light"
     },
     "output_type": "display_data"
    }
   ],
   "source": [
    "#Heat Map of the dataset\n",
    "colormap = plt.cm.plasma\n",
    "plt.figure(figsize=(8,8))\n",
    "plt.title('Correlation of features & targets',y=1.05,size=14)\n",
    "sns.heatmap(data.astype(float).corr(),linewidths=0.1,vmax=1.0,square=True,cmap=colormap,\n",
    "           linecolor='white',annot=True)"
   ]
  },
  {
   "cell_type": "markdown",
   "metadata": {},
   "source": [
    "# 2.1 Central tendencies of data"
   ]
  },
  {
   "cell_type": "code",
   "execution_count": 21,
   "metadata": {},
   "outputs": [],
   "source": [
    "df1=df.copy()"
   ]
  },
  {
   "cell_type": "code",
   "execution_count": 22,
   "metadata": {},
   "outputs": [],
   "source": [
    "X=df1.drop(['class'],axis=1)\n",
    "Y=df1['class']"
   ]
  },
  {
   "cell_type": "code",
   "execution_count": 23,
   "metadata": {},
   "outputs": [
    {
     "data": {
      "text/plain": [
       "age                   29.776667\n",
       "rok_index              0.052900\n",
       "rok_summation       4961.773333\n",
       "promo_value           49.540000\n",
       "event_value            2.863333\n",
       "conversion_ratio      23.489700\n",
       "label                  2.000000\n",
       "dtype: float64"
      ]
     },
     "execution_count": 23,
     "metadata": {},
     "output_type": "execute_result"
    }
   ],
   "source": [
    "#Mean\n",
    "np.mean(X)"
   ]
  },
  {
   "cell_type": "code",
   "execution_count": 24,
   "metadata": {},
   "outputs": [
    {
     "data": {
      "text/plain": [
       "16.785"
      ]
     },
     "execution_count": 24,
     "metadata": {},
     "output_type": "execute_result"
    }
   ],
   "source": [
    "#Median\n",
    "np.median(X)"
   ]
  },
  {
   "cell_type": "code",
   "execution_count": 25,
   "metadata": {},
   "outputs": [
    {
     "data": {
      "text/plain": [
       "ModeResult(mode=array([[2.200e+01, 7.000e-02, 1.519e+03, 3.400e+01, 4.000e+00, 2.447e+01,\n",
       "        2.000e+00]]), count=array([[ 12,  45,   2,  57,  59,   3, 106]]))"
      ]
     },
     "execution_count": 25,
     "metadata": {},
     "output_type": "execute_result"
    }
   ],
   "source": [
    "#mode\n",
    "from scipy import stats\n",
    "stats.mode(X)"
   ]
  },
  {
   "cell_type": "markdown",
   "metadata": {},
   "source": [
    "# 2.2 Fluctuation rates in data field"
   ]
  },
  {
   "cell_type": "code",
   "execution_count": 26,
   "metadata": {},
   "outputs": [
    {
     "data": {
      "text/plain": [
       "array([[-0.40743896, -0.41557341,  2.44940933, ..., -0.41494668,\n",
       "        -0.40636503, -0.41462025],\n",
       "       [-0.39706365, -0.42226956,  2.44931792, ..., -0.41872287,\n",
       "        -0.39818271, -0.42143027],\n",
       "       [-0.4066548 , -0.41377911,  2.44945666, ..., -0.41379038,\n",
       "        -0.40117166, -0.41303927],\n",
       "       ...,\n",
       "       [-0.40204933, -0.41275758,  2.4494668 , ..., -0.41209459,\n",
       "        -0.40172453, -0.41209459],\n",
       "       [-0.38577803, -0.41921533,  2.44932214, ..., -0.41847026,\n",
       "        -0.39728113, -0.41847026],\n",
       "       [-0.38749964, -0.42766093,  2.44910658, ..., -0.42202224,\n",
       "        -0.40671722, -0.42633756]])"
      ]
     },
     "execution_count": 26,
     "metadata": {},
     "output_type": "execute_result"
    }
   ],
   "source": [
    "#Z-Scores\n",
    "stats.zscore(X, axis=1)"
   ]
  },
  {
   "cell_type": "markdown",
   "metadata": {},
   "source": [
    "# 2.2.1 Standard Deviation"
   ]
  },
  {
   "cell_type": "code",
   "execution_count": 27,
   "metadata": {},
   "outputs": [
    {
     "data": {
      "text/plain": [
       "age                   11.863780\n",
       "rok_index              0.023899\n",
       "rok_summation       2301.284968\n",
       "promo_value           23.669161\n",
       "event_value            2.296862\n",
       "conversion_ratio       6.163415\n",
       "label                  0.805499\n",
       "dtype: float64"
      ]
     },
     "execution_count": 27,
     "metadata": {},
     "output_type": "execute_result"
    }
   ],
   "source": [
    "#Standard Deviation\n",
    "df.std()"
   ]
  },
  {
   "cell_type": "markdown",
   "metadata": {},
   "source": [
    "# 2.2.2 Varience"
   ]
  },
  {
   "cell_type": "code",
   "execution_count": 28,
   "metadata": {},
   "outputs": [
    {
     "data": {
      "text/plain": [
       "age                 1.407493e+02\n",
       "rok_index           5.711605e-04\n",
       "rok_summation       5.295913e+06\n",
       "promo_value         5.602292e+02\n",
       "event_value         5.275574e+00\n",
       "conversion_ratio    3.798769e+01\n",
       "label               6.488294e-01\n",
       "dtype: float64"
      ]
     },
     "execution_count": 28,
     "metadata": {},
     "output_type": "execute_result"
    }
   ],
   "source": [
    "#Varience\n",
    "df.var()"
   ]
  },
  {
   "cell_type": "markdown",
   "metadata": {},
   "source": [
    "# 2.2.4 Coefficient of Variation"
   ]
  },
  {
   "cell_type": "code",
   "execution_count": 31,
   "metadata": {},
   "outputs": [
    {
     "name": "stdout",
     "output_type": "stream",
     "text": [
      "Coefficient of Variation:\n",
      " age                 0.397761\n",
      "rok_index           0.451023\n",
      "rok_summation       0.463029\n",
      "promo_value         0.476982\n",
      "event_value         0.800826\n",
      "conversion_ratio    0.261950\n",
      "label               0.402078\n",
      "dtype: float64\n"
     ]
    }
   ],
   "source": [
    "Standard_deviation=np.std(df1)\n",
    "mean=np.mean(df1)\n",
    "cv= Standard_deviation / mean\n",
    "print('Coefficient of Variation:\\n',cv)"
   ]
  },
  {
   "cell_type": "markdown",
   "metadata": {},
   "source": [
    "# 2.2.3 Correlation"
   ]
  },
  {
   "cell_type": "code",
   "execution_count": 29,
   "metadata": {},
   "outputs": [
    {
     "data": {
      "text/html": [
       "<div>\n",
       "<style scoped>\n",
       "    .dataframe tbody tr th:only-of-type {\n",
       "        vertical-align: middle;\n",
       "    }\n",
       "\n",
       "    .dataframe tbody tr th {\n",
       "        vertical-align: top;\n",
       "    }\n",
       "\n",
       "    .dataframe thead th {\n",
       "        text-align: right;\n",
       "    }\n",
       "</style>\n",
       "<table border=\"1\" class=\"dataframe\">\n",
       "  <thead>\n",
       "    <tr style=\"text-align: right;\">\n",
       "      <th></th>\n",
       "      <th>age</th>\n",
       "      <th>rok_index</th>\n",
       "      <th>rok_summation</th>\n",
       "      <th>promo_value</th>\n",
       "      <th>event_value</th>\n",
       "      <th>conversion_ratio</th>\n",
       "      <th>label</th>\n",
       "    </tr>\n",
       "  </thead>\n",
       "  <tbody>\n",
       "    <tr>\n",
       "      <th>age</th>\n",
       "      <td>1.000000</td>\n",
       "      <td>0.029540</td>\n",
       "      <td>0.006835</td>\n",
       "      <td>-0.017506</td>\n",
       "      <td>0.047357</td>\n",
       "      <td>-0.140293</td>\n",
       "      <td>0.007350</td>\n",
       "    </tr>\n",
       "    <tr>\n",
       "      <th>rok_index</th>\n",
       "      <td>0.029540</td>\n",
       "      <td>1.000000</td>\n",
       "      <td>0.094887</td>\n",
       "      <td>0.040265</td>\n",
       "      <td>-0.027484</td>\n",
       "      <td>0.028274</td>\n",
       "      <td>0.086867</td>\n",
       "    </tr>\n",
       "    <tr>\n",
       "      <th>rok_summation</th>\n",
       "      <td>0.006835</td>\n",
       "      <td>0.094887</td>\n",
       "      <td>1.000000</td>\n",
       "      <td>0.062431</td>\n",
       "      <td>0.038945</td>\n",
       "      <td>0.046601</td>\n",
       "      <td>-0.029007</td>\n",
       "    </tr>\n",
       "    <tr>\n",
       "      <th>promo_value</th>\n",
       "      <td>-0.017506</td>\n",
       "      <td>0.040265</td>\n",
       "      <td>0.062431</td>\n",
       "      <td>1.000000</td>\n",
       "      <td>0.031630</td>\n",
       "      <td>-0.023649</td>\n",
       "      <td>0.060169</td>\n",
       "    </tr>\n",
       "    <tr>\n",
       "      <th>event_value</th>\n",
       "      <td>0.047357</td>\n",
       "      <td>-0.027484</td>\n",
       "      <td>0.038945</td>\n",
       "      <td>0.031630</td>\n",
       "      <td>1.000000</td>\n",
       "      <td>0.086670</td>\n",
       "      <td>-0.150040</td>\n",
       "    </tr>\n",
       "    <tr>\n",
       "      <th>conversion_ratio</th>\n",
       "      <td>-0.140293</td>\n",
       "      <td>0.028274</td>\n",
       "      <td>0.046601</td>\n",
       "      <td>-0.023649</td>\n",
       "      <td>0.086670</td>\n",
       "      <td>1.000000</td>\n",
       "      <td>0.047668</td>\n",
       "    </tr>\n",
       "    <tr>\n",
       "      <th>label</th>\n",
       "      <td>0.007350</td>\n",
       "      <td>0.086867</td>\n",
       "      <td>-0.029007</td>\n",
       "      <td>0.060169</td>\n",
       "      <td>-0.150040</td>\n",
       "      <td>0.047668</td>\n",
       "      <td>1.000000</td>\n",
       "    </tr>\n",
       "  </tbody>\n",
       "</table>\n",
       "</div>"
      ],
      "text/plain": [
       "                       age  rok_index  rok_summation  promo_value  \\\n",
       "age               1.000000   0.029540       0.006835    -0.017506   \n",
       "rok_index         0.029540   1.000000       0.094887     0.040265   \n",
       "rok_summation     0.006835   0.094887       1.000000     0.062431   \n",
       "promo_value      -0.017506   0.040265       0.062431     1.000000   \n",
       "event_value       0.047357  -0.027484       0.038945     0.031630   \n",
       "conversion_ratio -0.140293   0.028274       0.046601    -0.023649   \n",
       "label             0.007350   0.086867      -0.029007     0.060169   \n",
       "\n",
       "                  event_value  conversion_ratio     label  \n",
       "age                  0.047357         -0.140293  0.007350  \n",
       "rok_index           -0.027484          0.028274  0.086867  \n",
       "rok_summation        0.038945          0.046601 -0.029007  \n",
       "promo_value          0.031630         -0.023649  0.060169  \n",
       "event_value          1.000000          0.086670 -0.150040  \n",
       "conversion_ratio     0.086670          1.000000  0.047668  \n",
       "label               -0.150040          0.047668  1.000000  "
      ]
     },
     "execution_count": 29,
     "metadata": {},
     "output_type": "execute_result"
    }
   ],
   "source": [
    "#Correlation\n",
    "df.corr()"
   ]
  },
  {
   "cell_type": "code",
   "execution_count": 30,
   "metadata": {},
   "outputs": [
    {
     "data": {
      "text/plain": [
       "<matplotlib.axes._subplots.AxesSubplot at 0x2adc7af1fd0>"
      ]
     },
     "execution_count": 30,
     "metadata": {},
     "output_type": "execute_result"
    },
    {
     "data": {
      "image/png": "[encoded data removed]",
      "text/plain": [
       "<Figure size 1080x720 with 2 Axes>"
      ]
     },
     "metadata": {
      "needs_background": "light"
     },
     "output_type": "display_data"
    }
   ],
   "source": [
    "#Heat Map of Correlataion\n",
    "import seaborn as sns\n",
    "plt.figure(figsize = (15,10))\n",
    "sns.heatmap(df.corr(),annot = True,linewidths = 0.5)"
   ]
  },
  {
   "cell_type": "markdown",
   "metadata": {},
   "source": [
    "# 2.3 Principal component analysis (PCA)    3D"
   ]
  },
  {
   "cell_type": "code",
   "execution_count": 32,
   "metadata": {},
   "outputs": [],
   "source": [
    "from sklearn.model_selection import train_test_split\n",
    "from sklearn.model_selection import StratifiedShuffleSplit\n",
    "\n",
    "X=df1.drop(['class', 'label'],axis=1)\n",
    "y=df1['label']"
   ]
  },
  {
   "cell_type": "code",
   "execution_count": 33,
   "metadata": {},
   "outputs": [],
   "source": [
    "# Our data is already scaled we should split our training and test sets\n",
    "from sklearn.model_selection import train_test_split\n",
    "\n",
    "# This is explicitly used for undersampling.\n",
    "X_train, X_test, y_train, y_test = train_test_split(X, y, test_size=0.2, random_state=42)"
   ]
  },
  {
   "cell_type": "code",
   "execution_count": 34,
   "metadata": {},
   "outputs": [],
   "source": [
    "# Turn the values into an array for feeding the classification algorithms.\n",
    "X_train = X_train.values\n",
    "X_test = X_test.values\n",
    "y_train = y_train.values\n",
    "y_test = y_test.values"
   ]
  },
  {
   "cell_type": "code",
   "execution_count": 35,
   "metadata": {},
   "outputs": [
    {
     "data": {
      "image/png": "[encoded data removed]",
      "text/plain": [
       "<Figure size 576x432 with 1 Axes>"
      ]
     },
     "metadata": {
      "needs_background": "light"
     },
     "output_type": "display_data"
    }
   ],
   "source": [
    "import matplotlib.pyplot as plt\n",
    "from mpl_toolkits.mplot3d import Axes3D\n",
    "from sklearn import datasets\n",
    "from sklearn.decomposition import PCA\n",
    "\n",
    "p = X_train\n",
    "q = y_train\n",
    "# To getter a better understanding of interaction of the dimensions\n",
    "# plot the first three PCA dimensions\n",
    "fig = plt.figure(1, figsize=(8, 6))\n",
    "ax = Axes3D(fig, elev=-150, azim=110)\n",
    "X_reduced = PCA(n_components=3).fit_transform(p)\n",
    "ax.scatter(X_reduced[:, 0], X_reduced[:, 1], X_reduced[:, 2], c=q,\n",
    "           cmap=plt.cm.Set1, edgecolor='k', s=40)\n",
    "ax.set_title(\"First three PCA directions\")\n",
    "ax.set_xlabel(\"1st eigenvector\")\n",
    "ax.w_xaxis.set_ticklabels([])\n",
    "ax.set_ylabel(\"2nd eigenvector\")\n",
    "ax.w_yaxis.set_ticklabels([])\n",
    "ax.set_zlabel(\"3rd eigenvector\")\n",
    "ax.w_zaxis.set_ticklabels([])\n",
    "\n",
    "plt.show()"
   ]
  },
  {
   "cell_type": "markdown",
   "metadata": {},
   "source": [
    "# 2.3.1 Principal component analysis (PCA)    2D"
   ]
  },
  {
   "cell_type": "code",
   "execution_count": 36,
   "metadata": {},
   "outputs": [
    {
     "data": {
      "image/png": "[encoded data removed]",
      "text/plain": [
       "<Figure size 864x576 with 1 Axes>"
      ]
     },
     "metadata": {
      "needs_background": "light"
     },
     "output_type": "display_data"
    }
   ],
   "source": [
    "from sklearn.decomposition import PCA\n",
    "pca = PCA(n_components=2, whiten=True)\n",
    "pca.fit(p)\n",
    "X_pca = pca.transform(p)\n",
    "target_ids = range(len(X_pca))\n",
    "\n",
    "from matplotlib import pyplot as plt\n",
    "plt.figure(figsize=(12, 8))\n",
    "for i, c, label in zip(target_ids, 'rgbcmykw', X_pca):\n",
    "    plt.scatter(X_pca[q == i, 0], X_pca[q == i, 1],\n",
    "               c=c, label=label)\n",
    "plt.legend()\n",
    "plt.show()"
   ]
  },
  {
   "cell_type": "markdown",
   "metadata": {},
   "source": [
    "# 2.3.2 t-Distributed Stochastic Neighbor Embedding (t-SNE) 3D"
   ]
  },
  {
   "cell_type": "code",
   "execution_count": 37,
   "metadata": {},
   "outputs": [
    {
     "data": {
      "image/png": "[encoded data removed]",
      "text/plain": [
       "<Figure size 576x432 with 1 Axes>"
      ]
     },
     "metadata": {
      "needs_background": "light"
     },
     "output_type": "display_data"
    }
   ],
   "source": [
    "import matplotlib.pyplot as plt\n",
    "from mpl_toolkits.mplot3d import Axes3D\n",
    "from sklearn import datasets\n",
    "from sklearn.manifold import TSNE\n",
    "\n",
    "w = X_train\n",
    "r = y_train\n",
    "# To getter a better understanding of interaction of the dimensions\n",
    "# plot the first three PCA dimensions\n",
    "fig = plt.figure(1, figsize=(8, 6))\n",
    "ax = Axes3D(fig, elev=-150, azim=110)\n",
    "X_reduced = TSNE(n_components=3).fit_transform(w)\n",
    "ax.scatter(X_reduced[:, 0], X_reduced[:, 1], X_reduced[:, 2], c=r,\n",
    "           cmap=plt.cm.Set1, edgecolor='k', s=40,label=label)\n",
    "ax.set_title(\"First three PCA directions\")\n",
    "ax.set_xlabel(\"1st eigenvector\")\n",
    "ax.w_xaxis.set_ticklabels([])\n",
    "ax.set_ylabel(\"2nd eigenvector\")\n",
    "ax.w_yaxis.set_ticklabels([])\n",
    "ax.set_zlabel(\"3rd eigenvector\")\n",
    "ax.w_zaxis.set_ticklabels([])\n",
    "\n",
    "plt.show()"
   ]
  },
  {
   "cell_type": "markdown",
   "metadata": {},
   "source": [
    "# 2.4 Pearson Correlation"
   ]
  },
  {
   "cell_type": "code",
   "execution_count": 38,
   "metadata": {},
   "outputs": [
    {
     "name": "stdout",
     "output_type": "stream",
     "text": [
      "Pearsons correlation betwwen age and label instead of class is : 0.007\n",
      "Pearsons correlation betwwen rok_index and label instead of class is : 0.087\n",
      "Pearsons correlation betwwen rok_summation and label instead of class is : -0.029\n",
      "Pearsons correlation betwwen promo_value and label instead of class is : 0.060\n",
      "Pearsons correlation betwwen event_value and label instead of class is : -0.150\n",
      "Pearsons correlation betwwen conversion_ratio and label instead of class is : 0.048\n"
     ]
    }
   ],
   "source": [
    "\n",
    "# calculate the Pearson's correlation between two variables\n",
    "from numpy.random import randn\n",
    "from numpy.random import seed\n",
    "from scipy.stats import pearsonr\n",
    "# seed random number generator\n",
    "seed(1)\n",
    "# prepare data\n",
    "f1=df['age']\n",
    "f2=df['rok_index']\n",
    "f3=df['rok_summation']\n",
    "f4=df['promo_value']\n",
    "f5=df['event_value']\n",
    "f6=df['conversion_ratio']\n",
    "g=df['label']\n",
    "# calculate Pearson's correlation\n",
    "corr1, _ = pearsonr(f1,g)\n",
    "corr2, _ = pearsonr(f2,g)\n",
    "corr3, _ = pearsonr(f3,g)\n",
    "corr4, _ = pearsonr(f4,g)\n",
    "corr5, _ = pearsonr(f5,g)\n",
    "corr6, _ = pearsonr(f6,g)\n",
    "\n",
    "print('Pearsons correlation betwwen age and label instead of class is : %.3f' % corr1)\n",
    "print('Pearsons correlation betwwen rok_index and label instead of class is : %.3f' % corr2)\n",
    "print('Pearsons correlation betwwen rok_summation and label instead of class is : %.3f' % corr3)\n",
    "print('Pearsons correlation betwwen promo_value and label instead of class is : %.3f' % corr4)\n",
    "print('Pearsons correlation betwwen event_value and label instead of class is : %.3f' % corr5)\n",
    "print('Pearsons correlation betwwen conversion_ratio and label instead of class is : %.3f' % corr6)\n"
   ]
  },
  {
   "cell_type": "markdown",
   "metadata": {},
   "source": [
    "# 2.5 Anomalies Findings"
   ]
  },
  {
   "cell_type": "code",
   "execution_count": 106,
   "metadata": {},
   "outputs": [
    {
     "data": {
      "image/png": "[encoded data removed]",
      "text/plain": [
       "<Figure size 1440x432 with 3 Axes>"
      ]
     },
     "metadata": {
      "needs_background": "light"
     },
     "output_type": "display_data"
    }
   ],
   "source": [
    "from scipy.stats import norm\n",
    "\n",
    "f, (ax1, ax2, ax3) = plt.subplots(1,3, figsize=(20, 6))\n",
    "\n",
    "v14_dist = df['age'].loc[df['label'] == 1].values\n",
    "sns.distplot(v14_dist,ax=ax1, fit=norm, color='#FB8861')\n",
    "ax1.set_title('Age Distribution \\n (with Class)', fontsize=14)\n",
    "\n",
    "v12_dist = df['rok_index'].loc[df['label'] == 1].values\n",
    "sns.distplot(v12_dist,ax=ax2, fit=norm, color='#56F9BB')\n",
    "ax2.set_title('rok_index Distribution \\n (with class)', fontsize=14)\n",
    "\n",
    "\n",
    "v10_dist = df['rok_summation'].loc[df['label'] == 1].values\n",
    "sns.distplot(v10_dist,ax=ax3, fit=norm, color='#C5B3F9')\n",
    "ax3.set_title('rok_summation Distribution \\n (with class)', fontsize=14)\n",
    "\n",
    "\n",
    "plt.show()\n"
   ]
  },
  {
   "cell_type": "code",
   "execution_count": 115,
   "metadata": {},
   "outputs": [
    {
     "data": {
      "image/png": "[encoded data removed]",
      "text/plain": [
       "<Figure size 1440x432 with 3 Axes>"
      ]
     },
     "metadata": {
      "needs_background": "light"
     },
     "output_type": "display_data"
    }
   ],
   "source": [
    "f, (ax1, ax2, ax3) = plt.subplots(1,3, figsize=(20, 6))\n",
    "\n",
    "v9_dist = df['promo_value'].loc[df['label'] == 1].values\n",
    "sns.distplot(v9_dist,ax=ax1, fit=norm, color='#FB0061')\n",
    "ax1.set_title('promo_value Distribution \\n (with class)', fontsize=14)\n",
    "\n",
    "\n",
    "v8_dist = df['event_value'].loc[df['label'] == 1].values\n",
    "sns.distplot(v8_dist,ax=ax2, fit=norm, color='#86F5CB')\n",
    "ax2.set_title('event_value Distribution \\n (with class)', fontsize=14)\n",
    "\n",
    "v7_dist = df['conversion_ratio'].loc[df['label'] == 1].values\n",
    "sns.distplot(v7_dist,ax=ax3, fit=norm, color='#D5B3B9')\n",
    "ax3.set_title('conversion_ratio Distribution \\n (with class)', fontsize=14)\n",
    "\n",
    "plt.show()"
   ]
  },
  {
   "cell_type": "markdown",
   "metadata": {},
   "source": [
    "# 3. Classifier Algorithm"
   ]
  },
  {
   "cell_type": "code",
   "execution_count": 39,
   "metadata": {},
   "outputs": [],
   "source": [
    "# Let's implement simple classifiers\n",
    "\n",
    "classifiers = {\n",
    "    \"LogisiticRegression\": LogisticRegression(),\n",
    "    \"KNearest\": KNeighborsClassifier(),\n",
    "    \"Support Vector Classifier\": SVC(),\n",
    "    \"DecisionTreeClassifier\": DecisionTreeClassifier(),\n",
    "    \"RandomForestClassifier\":RandomForestClassifier(),\n",
    "    \"AdaBoostClassifier\":AdaBoostClassifier(),\n",
    "    \"GradientBoostingClassifier\":GradientBoostingClassifier()\n",
    "    \n",
    "}"
   ]
  },
  {
   "cell_type": "code",
   "execution_count": 40,
   "metadata": {},
   "outputs": [
    {
     "name": "stdout",
     "output_type": "stream",
     "text": [
      "Classifiers:  LogisticRegression Has a training score of 34.0 % accuracy score\n",
      "Classifiers:  KNeighborsClassifier Has a training score of 32.0 % accuracy score\n",
      "Classifiers:  SVC Has a training score of 37.0 % accuracy score\n",
      "Classifiers:  DecisionTreeClassifier Has a training score of 28.999999999999996 % accuracy score\n",
      "Classifiers:  RandomForestClassifier Has a training score of 28.999999999999996 % accuracy score\n",
      "Classifiers:  AdaBoostClassifier Has a training score of 30.0 % accuracy score\n",
      "Classifiers:  GradientBoostingClassifier Has a training score of 34.0 % accuracy score\n"
     ]
    }
   ],
   "source": [
    "# Accuracy for differ classifier in data model.\n",
    "from sklearn.model_selection import cross_val_score\n",
    "\n",
    "\n",
    "for key, classifier in classifiers.items():\n",
    "    classifier.fit(X_train, y_train)\n",
    "    training_score = cross_val_score(classifier, X_train, y_train, cv=5)\n",
    "    print(\"Classifiers: \", classifier.__class__.__name__, \"Has a training score of\", round(training_score.mean(), 2) * 100, \"% accuracy score\")"
   ]
  },
  {
   "cell_type": "markdown",
   "metadata": {},
   "source": [
    "# 3.1 Logistic Regression"
   ]
  },
  {
   "cell_type": "code",
   "execution_count": 56,
   "metadata": {},
   "outputs": [
    {
     "name": "stdout",
     "output_type": "stream",
     "text": [
      "Accuracy Score on test data set: 0.2833333333333333\n"
     ]
    }
   ],
   "source": [
    "lr =  LogisticRegression()\n",
    "lr.fit(X_train, y_train)\n",
    "y_pred_lr = lr.predict(X_test)\n",
    "test_score_lr = accuracy_score(y_test, y_pred_lr)\n",
    "print('Accuracy Score on test data set:', test_score_lr)"
   ]
  },
  {
   "cell_type": "code",
   "execution_count": 57,
   "metadata": {},
   "outputs": [],
   "source": [
    "columns = ['age' , 'rok_index' , 'rok_summation' , 'promo_value' , 'event_value' ,\n",
    "'conversion_ratio']\n",
    "\n",
    "df3=pd.read_csv(\"data.test\", header = None, names = columns)\n"
   ]
  },
  {
   "cell_type": "code",
   "execution_count": 58,
   "metadata": {},
   "outputs": [],
   "source": [
    "dataTrainlr = df3.values"
   ]
  },
  {
   "cell_type": "code",
   "execution_count": 59,
   "metadata": {},
   "outputs": [],
   "source": [
    "predictionslr = lr.predict(dataTrainlr)"
   ]
  },
  {
   "cell_type": "code",
   "execution_count": 60,
   "metadata": {},
   "outputs": [
    {
     "data": {
      "text/plain": [
       "array([1, 1, 1, 2, 1, 3, 2, 1, 1, 2, 2, 2, 1, 1, 1, 2, 3, 2, 3, 3, 2, 2,\n",
       "       3, 3, 1, 2, 1, 3, 2, 3, 1, 1, 2, 1, 1, 3, 3, 2, 1, 2, 2, 2, 2, 2,\n",
       "       2, 3, 3, 2, 1, 2, 2, 3, 1, 1, 1, 2, 3, 2, 1, 1, 1, 3, 3, 3, 2, 1,\n",
       "       1, 1, 3, 3, 2, 1, 1, 1, 1, 1, 3, 3, 3, 1, 3, 2, 1, 3, 2, 3, 1, 2,\n",
       "       3, 3, 2, 3, 3, 3, 2, 2, 2, 2, 1, 1, 2, 3, 1, 2, 2, 3, 1, 2, 2, 2,\n",
       "       1, 2, 2, 1, 2, 3, 3, 3, 2, 1, 1, 1, 1, 3, 2, 2, 2, 1, 3, 1, 3, 1,\n",
       "       2, 3, 1, 1, 1, 1, 2, 2, 2, 2, 2, 2, 1, 2, 1, 1, 1, 1], dtype=int64)"
      ]
     },
     "execution_count": 60,
     "metadata": {},
     "output_type": "execute_result"
    }
   ],
   "source": [
    "predictionslr"
   ]
  },
  {
   "cell_type": "code",
   "execution_count": 65,
   "metadata": {},
   "outputs": [
    {
     "name": "stdout",
     "output_type": "stream",
     "text": [
      "['a', 'a', 'a', 'b', 'a', 'c', 'b', 'a', 'a', 'b', 'b', 'b', 'a', 'a', 'a', 'b', 'c', 'b', 'c', 'c', 'b', 'b', 'c', 'c', 'a', 'b', 'a', 'c', 'b', 'c', 'a', 'a', 'b', 'a', 'a', 'c', 'c', 'b', 'a', 'b', 'b', 'b', 'b', 'b', 'b', 'c', 'c', 'b', 'a', 'b', 'b', 'c', 'a', 'a', 'a', 'b', 'c', 'b', 'a', 'a', 'a', 'c', 'c', 'c', 'b', 'a', 'a', 'a', 'c', 'c', 'b', 'a', 'a', 'a', 'a', 'a', 'c', 'c', 'c', 'a', 'c', 'b', 'a', 'c', 'b', 'c', 'a', 'b', 'c', 'c', 'b', 'c', 'c', 'c', 'b', 'b', 'b', 'b', 'a', 'a', 'b', 'c', 'a', 'b', 'b', 'c', 'a', 'b', 'b', 'b', 'a', 'b', 'b', 'a', 'b', 'c', 'c', 'c', 'b', 'a', 'a', 'a', 'a', 'c', 'b', 'b', 'b', 'a', 'c', 'a', 'c', 'a', 'b', 'c', 'a', 'a', 'a', 'a', 'b', 'b', 'b', 'b', 'b', 'b', 'a', 'b', 'a', 'a', 'a', 'a']\n"
     ]
    }
   ],
   "source": [
    "labelDictlr = {\n",
    "    1 : 'a',\n",
    "    2 : 'b',\n",
    "    3 : 'c'\n",
    "}\n",
    "predslr = []\n",
    "\n",
    "for predict1 in predictionslr:\n",
    "  predslr.append(labelDictlr[predict1])\n",
    "  \n",
    "\n",
    "print(predslr)"
   ]
  },
  {
   "cell_type": "code",
   "execution_count": 66,
   "metadata": {},
   "outputs": [],
   "source": [
    "df3['predictions'] = predslr"
   ]
  },
  {
   "cell_type": "code",
   "execution_count": 67,
   "metadata": {},
   "outputs": [
    {
     "data": {
      "text/html": [
       "<div>\n",
       "<style scoped>\n",
       "    .dataframe tbody tr th:only-of-type {\n",
       "        vertical-align: middle;\n",
       "    }\n",
       "\n",
       "    .dataframe tbody tr th {\n",
       "        vertical-align: top;\n",
       "    }\n",
       "\n",
       "    .dataframe thead th {\n",
       "        text-align: right;\n",
       "    }\n",
       "</style>\n",
       "<table border=\"1\" class=\"dataframe\">\n",
       "  <thead>\n",
       "    <tr style=\"text-align: right;\">\n",
       "      <th></th>\n",
       "      <th>age</th>\n",
       "      <th>rok_index</th>\n",
       "      <th>rok_summation</th>\n",
       "      <th>promo_value</th>\n",
       "      <th>event_value</th>\n",
       "      <th>conversion_ratio</th>\n",
       "      <th>predictions</th>\n",
       "    </tr>\n",
       "  </thead>\n",
       "  <tbody>\n",
       "    <tr>\n",
       "      <th>0</th>\n",
       "      <td>18</td>\n",
       "      <td>0.03</td>\n",
       "      <td>7815</td>\n",
       "      <td>12</td>\n",
       "      <td>4</td>\n",
       "      <td>31.89</td>\n",
       "      <td>a</td>\n",
       "    </tr>\n",
       "    <tr>\n",
       "      <th>1</th>\n",
       "      <td>19</td>\n",
       "      <td>0.06</td>\n",
       "      <td>8468</td>\n",
       "      <td>12</td>\n",
       "      <td>0</td>\n",
       "      <td>24.85</td>\n",
       "      <td>a</td>\n",
       "    </tr>\n",
       "    <tr>\n",
       "      <th>2</th>\n",
       "      <td>44</td>\n",
       "      <td>0.05</td>\n",
       "      <td>4673</td>\n",
       "      <td>31</td>\n",
       "      <td>1</td>\n",
       "      <td>15.43</td>\n",
       "      <td>a</td>\n",
       "    </tr>\n",
       "    <tr>\n",
       "      <th>3</th>\n",
       "      <td>34</td>\n",
       "      <td>0.09</td>\n",
       "      <td>3372</td>\n",
       "      <td>56</td>\n",
       "      <td>2</td>\n",
       "      <td>13.58</td>\n",
       "      <td>b</td>\n",
       "    </tr>\n",
       "    <tr>\n",
       "      <th>4</th>\n",
       "      <td>49</td>\n",
       "      <td>0.04</td>\n",
       "      <td>6077</td>\n",
       "      <td>12</td>\n",
       "      <td>4</td>\n",
       "      <td>32.48</td>\n",
       "      <td>a</td>\n",
       "    </tr>\n",
       "    <tr>\n",
       "      <th>5</th>\n",
       "      <td>39</td>\n",
       "      <td>0.02</td>\n",
       "      <td>1082</td>\n",
       "      <td>31</td>\n",
       "      <td>2</td>\n",
       "      <td>27.28</td>\n",
       "      <td>c</td>\n",
       "    </tr>\n",
       "    <tr>\n",
       "      <th>6</th>\n",
       "      <td>20</td>\n",
       "      <td>0.08</td>\n",
       "      <td>6629</td>\n",
       "      <td>42</td>\n",
       "      <td>4</td>\n",
       "      <td>33.52</td>\n",
       "      <td>b</td>\n",
       "    </tr>\n",
       "    <tr>\n",
       "      <th>7</th>\n",
       "      <td>30</td>\n",
       "      <td>0.04</td>\n",
       "      <td>6660</td>\n",
       "      <td>12</td>\n",
       "      <td>4</td>\n",
       "      <td>24.19</td>\n",
       "      <td>a</td>\n",
       "    </tr>\n",
       "    <tr>\n",
       "      <th>8</th>\n",
       "      <td>47</td>\n",
       "      <td>0.04</td>\n",
       "      <td>4611</td>\n",
       "      <td>42</td>\n",
       "      <td>1</td>\n",
       "      <td>14.56</td>\n",
       "      <td>a</td>\n",
       "    </tr>\n",
       "    <tr>\n",
       "      <th>9</th>\n",
       "      <td>20</td>\n",
       "      <td>0.07</td>\n",
       "      <td>6343</td>\n",
       "      <td>34</td>\n",
       "      <td>3</td>\n",
       "      <td>32.40</td>\n",
       "      <td>b</td>\n",
       "    </tr>\n",
       "  </tbody>\n",
       "</table>\n",
       "</div>"
      ],
      "text/plain": [
       "   age  rok_index  rok_summation  promo_value  event_value  conversion_ratio  \\\n",
       "0   18       0.03           7815           12            4             31.89   \n",
       "1   19       0.06           8468           12            0             24.85   \n",
       "2   44       0.05           4673           31            1             15.43   \n",
       "3   34       0.09           3372           56            2             13.58   \n",
       "4   49       0.04           6077           12            4             32.48   \n",
       "5   39       0.02           1082           31            2             27.28   \n",
       "6   20       0.08           6629           42            4             33.52   \n",
       "7   30       0.04           6660           12            4             24.19   \n",
       "8   47       0.04           4611           42            1             14.56   \n",
       "9   20       0.07           6343           34            3             32.40   \n",
       "\n",
       "  predictions  \n",
       "0           a  \n",
       "1           a  \n",
       "2           a  \n",
       "3           b  \n",
       "4           a  \n",
       "5           c  \n",
       "6           b  \n",
       "7           a  \n",
       "8           a  \n",
       "9           b  "
      ]
     },
     "execution_count": 67,
     "metadata": {},
     "output_type": "execute_result"
    }
   ],
   "source": [
    "df3.head(10)"
   ]
  },
  {
   "cell_type": "markdown",
   "metadata": {},
   "source": [
    "# 3.2 KNN"
   ]
  },
  {
   "cell_type": "code",
   "execution_count": 68,
   "metadata": {},
   "outputs": [
    {
     "name": "stdout",
     "output_type": "stream",
     "text": [
      "Accuracy Score on test data set: 0.38333333333333336\n"
     ]
    }
   ],
   "source": [
    "knn = KNeighborsClassifier(n_neighbors=50)\n",
    "knn.fit(X_train, y_train)\n",
    "y_pred1=knn.predict(X_test)\n",
    "# Compare predictions to y_test labels\n",
    "test_score = accuracy_score(y_test, y_pred1)\n",
    "print('Accuracy Score on test data set:', test_score)"
   ]
  },
  {
   "cell_type": "markdown",
   "metadata": {},
   "source": [
    "# KNN-Score:"
   ]
  },
  {
   "cell_type": "code",
   "execution_count": 291,
   "metadata": {},
   "outputs": [
    {
     "name": "stdout",
     "output_type": "stream",
     "text": [
      "k-NN score for test set: 0.250000\n",
      "k-NN score for training set: 0.362500\n",
      "              precision    recall  f1-score   support\n",
      "\n",
      "           1       0.19      0.31      0.23        16\n",
      "           2       0.23      0.32      0.27        19\n",
      "           3       0.57      0.16      0.25        25\n",
      "\n",
      "    accuracy                           0.25        60\n",
      "   macro avg       0.33      0.26      0.25        60\n",
      "weighted avg       0.36      0.25      0.25        60\n",
      "\n"
     ]
    }
   ],
   "source": [
    "from sklearn.preprocessing import scale\n",
    "\n",
    "Xs = scale(X)\n",
    "from sklearn.model_selection import train_test_split\n",
    "Xs_train, Xs_test, y_train, y_test = train_test_split(Xs, y, test_size=0.2, random_state=42)\n",
    "knn_model_2 = knn.fit(Xs_train, y_train)\n",
    "print('k-NN score for test set: %f' % knn_model_2.score(Xs_test, y_test))\n",
    "print('k-NN score for training set: %f' % knn_model_2.score(Xs_train, y_train))\n",
    "y_true, y_pred = y_test, knn_model_2.predict(Xs_test)\n",
    "print(classification_report(y_true, y_pred))"
   ]
  },
  {
   "cell_type": "code",
   "execution_count": 292,
   "metadata": {},
   "outputs": [
    {
     "name": "stdout",
     "output_type": "stream",
     "text": [
      "Accuracy Score on test data set: 0.2833333333333333\n"
     ]
    }
   ],
   "source": [
    "#After normalizing with minmax classifier\n",
    "scaler = preprocessing.StandardScaler().fit(X_train)\n",
    "\n",
    "min_max_scaler = preprocessing.MinMaxScaler()\n",
    "X_train_minmax = min_max_scaler.fit_transform(X_train)\n",
    "X_test_minmax = min_max_scaler.transform(X_test)\n",
    "knn = KNeighborsClassifier(n_neighbors=50)\n",
    "knn.fit(X_train_minmax, y_train)\n",
    "y_pred1=knn.predict(X_test_minmax)\n",
    "# Compare predictions to y_test labels\n",
    "test_score1 = accuracy_score(y_test, y_pred1)\n",
    "print('Accuracy Score on test data set:', test_score1)"
   ]
  },
  {
   "cell_type": "code",
   "execution_count": 293,
   "metadata": {},
   "outputs": [
    {
     "name": "stdout",
     "output_type": "stream",
     "text": [
      "Accuracy Score on test data set: 0.25\n"
     ]
    }
   ],
   "source": [
    "#After normalizing with standard scaler classifier\n",
    "scaler = preprocessing.StandardScaler().fit(X_train)\n",
    "X_train_scaler=scaler.transform(X_train)\n",
    "X_test_scaler=scaler.transform(X_test)\n",
    "knn = KNeighborsClassifier(n_neighbors=50)\n",
    "knn.fit(X_train_scaler, y_train)\n",
    "y_pred1=knn.predict(X_test_scaler)\n",
    "# Compare predictions to y_test labels\n",
    "test_score2 = accuracy_score(y_test, y_pred1)\n",
    "print('Accuracy Score on test data set:', test_score2)"
   ]
  },
  {
   "cell_type": "markdown",
   "metadata": {},
   "source": [
    "#  Import test dataset"
   ]
  },
  {
   "cell_type": "code",
   "execution_count": 69,
   "metadata": {},
   "outputs": [],
   "source": [
    "columns = ['age' , 'rok_index' , 'rok_summation' , 'promo_value' , 'event_value' ,\n",
    "'conversion_ratio']\n",
    "\n",
    "df2=pd.read_csv(\"data.test\", header = None, names = columns)"
   ]
  },
  {
   "cell_type": "code",
   "execution_count": 70,
   "metadata": {},
   "outputs": [
    {
     "data": {
      "text/html": [
       "<div>\n",
       "<style scoped>\n",
       "    .dataframe tbody tr th:only-of-type {\n",
       "        vertical-align: middle;\n",
       "    }\n",
       "\n",
       "    .dataframe tbody tr th {\n",
       "        vertical-align: top;\n",
       "    }\n",
       "\n",
       "    .dataframe thead th {\n",
       "        text-align: right;\n",
       "    }\n",
       "</style>\n",
       "<table border=\"1\" class=\"dataframe\">\n",
       "  <thead>\n",
       "    <tr style=\"text-align: right;\">\n",
       "      <th></th>\n",
       "      <th>age</th>\n",
       "      <th>rok_index</th>\n",
       "      <th>rok_summation</th>\n",
       "      <th>promo_value</th>\n",
       "      <th>event_value</th>\n",
       "      <th>conversion_ratio</th>\n",
       "    </tr>\n",
       "  </thead>\n",
       "  <tbody>\n",
       "    <tr>\n",
       "      <th>0</th>\n",
       "      <td>18</td>\n",
       "      <td>0.03</td>\n",
       "      <td>7815</td>\n",
       "      <td>12</td>\n",
       "      <td>4</td>\n",
       "      <td>31.89</td>\n",
       "    </tr>\n",
       "    <tr>\n",
       "      <th>1</th>\n",
       "      <td>19</td>\n",
       "      <td>0.06</td>\n",
       "      <td>8468</td>\n",
       "      <td>12</td>\n",
       "      <td>0</td>\n",
       "      <td>24.85</td>\n",
       "    </tr>\n",
       "    <tr>\n",
       "      <th>2</th>\n",
       "      <td>44</td>\n",
       "      <td>0.05</td>\n",
       "      <td>4673</td>\n",
       "      <td>31</td>\n",
       "      <td>1</td>\n",
       "      <td>15.43</td>\n",
       "    </tr>\n",
       "    <tr>\n",
       "      <th>3</th>\n",
       "      <td>34</td>\n",
       "      <td>0.09</td>\n",
       "      <td>3372</td>\n",
       "      <td>56</td>\n",
       "      <td>2</td>\n",
       "      <td>13.58</td>\n",
       "    </tr>\n",
       "    <tr>\n",
       "      <th>4</th>\n",
       "      <td>49</td>\n",
       "      <td>0.04</td>\n",
       "      <td>6077</td>\n",
       "      <td>12</td>\n",
       "      <td>4</td>\n",
       "      <td>32.48</td>\n",
       "    </tr>\n",
       "  </tbody>\n",
       "</table>\n",
       "</div>"
      ],
      "text/plain": [
       "   age  rok_index  rok_summation  promo_value  event_value  conversion_ratio\n",
       "0   18       0.03           7815           12            4             31.89\n",
       "1   19       0.06           8468           12            0             24.85\n",
       "2   44       0.05           4673           31            1             15.43\n",
       "3   34       0.09           3372           56            2             13.58\n",
       "4   49       0.04           6077           12            4             32.48"
      ]
     },
     "execution_count": 70,
     "metadata": {},
     "output_type": "execute_result"
    }
   ],
   "source": [
    "df2.head()"
   ]
  },
  {
   "cell_type": "code",
   "execution_count": 71,
   "metadata": {},
   "outputs": [],
   "source": [
    "dataTrain = df2.values"
   ]
  },
  {
   "cell_type": "markdown",
   "metadata": {},
   "source": [
    "# 3.2.1 KNN Model to classify the \"data.test\""
   ]
  },
  {
   "cell_type": "code",
   "execution_count": 72,
   "metadata": {},
   "outputs": [],
   "source": [
    "predictions = knn.predict(dataTrain)"
   ]
  },
  {
   "cell_type": "code",
   "execution_count": 73,
   "metadata": {},
   "outputs": [
    {
     "data": {
      "text/plain": [
       "array([2, 2, 2, 3, 1, 1, 1, 1, 2, 1, 1, 2, 1, 2, 2, 3, 2, 1, 1, 1, 1, 1,\n",
       "       3, 2, 2, 2, 1, 1, 1, 1, 1, 2, 3, 2, 2, 2, 3, 2, 1, 1, 3, 2, 2, 3,\n",
       "       2, 2, 1, 1, 2, 1, 2, 3, 2, 2, 2, 1, 2, 2, 2, 2, 3, 3, 1, 2, 2, 1,\n",
       "       1, 1, 1, 1, 2, 2, 1, 1, 1, 3, 1, 2, 1, 2, 3, 2, 1, 2, 2, 1, 2, 1,\n",
       "       1, 1, 1, 2, 2, 1, 3, 1, 1, 2, 1, 1, 2, 2, 2, 2, 2, 2, 2, 1, 1, 1,\n",
       "       2, 2, 2, 2, 2, 1, 2, 2, 3, 1, 2, 2, 2, 1, 2, 1, 2, 2, 3, 3, 1, 2,\n",
       "       2, 2, 2, 1, 1, 2, 2, 1, 3, 1, 2, 1, 1, 1, 2, 1, 2, 1], dtype=int64)"
      ]
     },
     "execution_count": 73,
     "metadata": {},
     "output_type": "execute_result"
    }
   ],
   "source": [
    "predictions"
   ]
  },
  {
   "cell_type": "code",
   "execution_count": 74,
   "metadata": {},
   "outputs": [
    {
     "name": "stdout",
     "output_type": "stream",
     "text": [
      "['b', 'b', 'b', 'c', 'a', 'a', 'a', 'a', 'b', 'a', 'a', 'b', 'a', 'b', 'b', 'c', 'b', 'a', 'a', 'a', 'a', 'a', 'c', 'b', 'b', 'b', 'a', 'a', 'a', 'a', 'a', 'b', 'c', 'b', 'b', 'b', 'c', 'b', 'a', 'a', 'c', 'b', 'b', 'c', 'b', 'b', 'a', 'a', 'b', 'a', 'b', 'c', 'b', 'b', 'b', 'a', 'b', 'b', 'b', 'b', 'c', 'c', 'a', 'b', 'b', 'a', 'a', 'a', 'a', 'a', 'b', 'b', 'a', 'a', 'a', 'c', 'a', 'b', 'a', 'b', 'c', 'b', 'a', 'b', 'b', 'a', 'b', 'a', 'a', 'a', 'a', 'b', 'b', 'a', 'c', 'a', 'a', 'b', 'a', 'a', 'b', 'b', 'b', 'b', 'b', 'b', 'b', 'a', 'a', 'a', 'b', 'b', 'b', 'b', 'b', 'a', 'b', 'b', 'c', 'a', 'b', 'b', 'b', 'a', 'b', 'a', 'b', 'b', 'c', 'c', 'a', 'b', 'b', 'b', 'b', 'a', 'a', 'b', 'b', 'a', 'c', 'a', 'b', 'a', 'a', 'a', 'b', 'a', 'b', 'a']\n"
     ]
    }
   ],
   "source": [
    "labelDict = {\n",
    "    1 : 'a',\n",
    "    2 : 'b',\n",
    "    3 : 'c'\n",
    "}\n",
    "preds = []\n",
    "\n",
    "for predict in predictions:\n",
    "  preds.append(labelDict[predict])\n",
    " \n",
    "\n",
    "print(preds)\n"
   ]
  },
  {
   "cell_type": "code",
   "execution_count": 75,
   "metadata": {},
   "outputs": [],
   "source": [
    "df2['predictions'] = preds"
   ]
  },
  {
   "cell_type": "code",
   "execution_count": 76,
   "metadata": {},
   "outputs": [
    {
     "data": {
      "text/html": [
       "<div>\n",
       "<style scoped>\n",
       "    .dataframe tbody tr th:only-of-type {\n",
       "        vertical-align: middle;\n",
       "    }\n",
       "\n",
       "    .dataframe tbody tr th {\n",
       "        vertical-align: top;\n",
       "    }\n",
       "\n",
       "    .dataframe thead th {\n",
       "        text-align: right;\n",
       "    }\n",
       "</style>\n",
       "<table border=\"1\" class=\"dataframe\">\n",
       "  <thead>\n",
       "    <tr style=\"text-align: right;\">\n",
       "      <th></th>\n",
       "      <th>age</th>\n",
       "      <th>rok_index</th>\n",
       "      <th>rok_summation</th>\n",
       "      <th>promo_value</th>\n",
       "      <th>event_value</th>\n",
       "      <th>conversion_ratio</th>\n",
       "      <th>predictions</th>\n",
       "    </tr>\n",
       "  </thead>\n",
       "  <tbody>\n",
       "    <tr>\n",
       "      <th>0</th>\n",
       "      <td>18</td>\n",
       "      <td>0.03</td>\n",
       "      <td>7815</td>\n",
       "      <td>12</td>\n",
       "      <td>4</td>\n",
       "      <td>31.89</td>\n",
       "      <td>b</td>\n",
       "    </tr>\n",
       "    <tr>\n",
       "      <th>1</th>\n",
       "      <td>19</td>\n",
       "      <td>0.06</td>\n",
       "      <td>8468</td>\n",
       "      <td>12</td>\n",
       "      <td>0</td>\n",
       "      <td>24.85</td>\n",
       "      <td>b</td>\n",
       "    </tr>\n",
       "    <tr>\n",
       "      <th>2</th>\n",
       "      <td>44</td>\n",
       "      <td>0.05</td>\n",
       "      <td>4673</td>\n",
       "      <td>31</td>\n",
       "      <td>1</td>\n",
       "      <td>15.43</td>\n",
       "      <td>b</td>\n",
       "    </tr>\n",
       "    <tr>\n",
       "      <th>3</th>\n",
       "      <td>34</td>\n",
       "      <td>0.09</td>\n",
       "      <td>3372</td>\n",
       "      <td>56</td>\n",
       "      <td>2</td>\n",
       "      <td>13.58</td>\n",
       "      <td>c</td>\n",
       "    </tr>\n",
       "    <tr>\n",
       "      <th>4</th>\n",
       "      <td>49</td>\n",
       "      <td>0.04</td>\n",
       "      <td>6077</td>\n",
       "      <td>12</td>\n",
       "      <td>4</td>\n",
       "      <td>32.48</td>\n",
       "      <td>a</td>\n",
       "    </tr>\n",
       "    <tr>\n",
       "      <th>5</th>\n",
       "      <td>39</td>\n",
       "      <td>0.02</td>\n",
       "      <td>1082</td>\n",
       "      <td>31</td>\n",
       "      <td>2</td>\n",
       "      <td>27.28</td>\n",
       "      <td>a</td>\n",
       "    </tr>\n",
       "    <tr>\n",
       "      <th>6</th>\n",
       "      <td>20</td>\n",
       "      <td>0.08</td>\n",
       "      <td>6629</td>\n",
       "      <td>42</td>\n",
       "      <td>4</td>\n",
       "      <td>33.52</td>\n",
       "      <td>a</td>\n",
       "    </tr>\n",
       "    <tr>\n",
       "      <th>7</th>\n",
       "      <td>30</td>\n",
       "      <td>0.04</td>\n",
       "      <td>6660</td>\n",
       "      <td>12</td>\n",
       "      <td>4</td>\n",
       "      <td>24.19</td>\n",
       "      <td>a</td>\n",
       "    </tr>\n",
       "    <tr>\n",
       "      <th>8</th>\n",
       "      <td>47</td>\n",
       "      <td>0.04</td>\n",
       "      <td>4611</td>\n",
       "      <td>42</td>\n",
       "      <td>1</td>\n",
       "      <td>14.56</td>\n",
       "      <td>b</td>\n",
       "    </tr>\n",
       "    <tr>\n",
       "      <th>9</th>\n",
       "      <td>20</td>\n",
       "      <td>0.07</td>\n",
       "      <td>6343</td>\n",
       "      <td>34</td>\n",
       "      <td>3</td>\n",
       "      <td>32.40</td>\n",
       "      <td>a</td>\n",
       "    </tr>\n",
       "  </tbody>\n",
       "</table>\n",
       "</div>"
      ],
      "text/plain": [
       "   age  rok_index  rok_summation  promo_value  event_value  conversion_ratio  \\\n",
       "0   18       0.03           7815           12            4             31.89   \n",
       "1   19       0.06           8468           12            0             24.85   \n",
       "2   44       0.05           4673           31            1             15.43   \n",
       "3   34       0.09           3372           56            2             13.58   \n",
       "4   49       0.04           6077           12            4             32.48   \n",
       "5   39       0.02           1082           31            2             27.28   \n",
       "6   20       0.08           6629           42            4             33.52   \n",
       "7   30       0.04           6660           12            4             24.19   \n",
       "8   47       0.04           4611           42            1             14.56   \n",
       "9   20       0.07           6343           34            3             32.40   \n",
       "\n",
       "  predictions  \n",
       "0           b  \n",
       "1           b  \n",
       "2           b  \n",
       "3           c  \n",
       "4           a  \n",
       "5           a  \n",
       "6           a  \n",
       "7           a  \n",
       "8           b  \n",
       "9           a  "
      ]
     },
     "execution_count": 76,
     "metadata": {},
     "output_type": "execute_result"
    }
   ],
   "source": [
    "#print the test_data with prediction class\n",
    "df2.head(10)"
   ]
  },
  {
   "cell_type": "markdown",
   "metadata": {},
   "source": [
    "# 3.3 Suport vector machine"
   ]
  },
  {
   "cell_type": "code",
   "execution_count": 48,
   "metadata": {},
   "outputs": [
    {
     "name": "stdout",
     "output_type": "stream",
     "text": [
      "Accuracy Score on test data set: 0.31666666666666665\n"
     ]
    }
   ],
   "source": [
    "svm =  SVC(kernel=\"poly\", C=0.025,random_state=101)\n",
    "svm.fit(X_train, y_train)\n",
    "y_pred_svm=svm.predict(X_test)\n",
    "test_score_svm = accuracy_score(y_test, y_pred_svm)\n",
    "print('Accuracy Score on test data set:', test_score_svm)"
   ]
  },
  {
   "cell_type": "code",
   "execution_count": 49,
   "metadata": {},
   "outputs": [],
   "source": [
    "columns = ['age' , 'rok_index' , 'rok_summation' , 'promo_value' , 'event_value' ,\n",
    "'conversion_ratio']\n",
    "\n",
    "df4=pd.read_csv(\"data.test\", header = None, names = columns)"
   ]
  },
  {
   "cell_type": "code",
   "execution_count": 50,
   "metadata": {},
   "outputs": [],
   "source": [
    "dataTrain_svm = df4.values"
   ]
  },
  {
   "cell_type": "code",
   "execution_count": 51,
   "metadata": {},
   "outputs": [],
   "source": [
    "predictions_svm = svm.predict(dataTrain_svm)"
   ]
  },
  {
   "cell_type": "code",
   "execution_count": 53,
   "metadata": {},
   "outputs": [],
   "source": [
    "labelDict_svm = {\n",
    "    1 : 'a',\n",
    "    2 : 'b',\n",
    "    3 : 'c'\n",
    "}\n",
    "preds_svm = []\n",
    "\n",
    "for predict_svm in predictions_svm:\n",
    "  preds_svm.append(labelDict_svm[predict_svm])\n",
    "  \n"
   ]
  },
  {
   "cell_type": "code",
   "execution_count": 54,
   "metadata": {},
   "outputs": [
    {
     "data": {
      "text/html": [
       "<div>\n",
       "<style scoped>\n",
       "    .dataframe tbody tr th:only-of-type {\n",
       "        vertical-align: middle;\n",
       "    }\n",
       "\n",
       "    .dataframe tbody tr th {\n",
       "        vertical-align: top;\n",
       "    }\n",
       "\n",
       "    .dataframe thead th {\n",
       "        text-align: right;\n",
       "    }\n",
       "</style>\n",
       "<table border=\"1\" class=\"dataframe\">\n",
       "  <thead>\n",
       "    <tr style=\"text-align: right;\">\n",
       "      <th></th>\n",
       "      <th>age</th>\n",
       "      <th>rok_index</th>\n",
       "      <th>rok_summation</th>\n",
       "      <th>promo_value</th>\n",
       "      <th>event_value</th>\n",
       "      <th>conversion_ratio</th>\n",
       "      <th>predictions_svm</th>\n",
       "    </tr>\n",
       "  </thead>\n",
       "  <tbody>\n",
       "    <tr>\n",
       "      <th>0</th>\n",
       "      <td>18</td>\n",
       "      <td>0.03</td>\n",
       "      <td>7815</td>\n",
       "      <td>12</td>\n",
       "      <td>4</td>\n",
       "      <td>31.89</td>\n",
       "      <td>b</td>\n",
       "    </tr>\n",
       "    <tr>\n",
       "      <th>1</th>\n",
       "      <td>19</td>\n",
       "      <td>0.06</td>\n",
       "      <td>8468</td>\n",
       "      <td>12</td>\n",
       "      <td>0</td>\n",
       "      <td>24.85</td>\n",
       "      <td>b</td>\n",
       "    </tr>\n",
       "    <tr>\n",
       "      <th>2</th>\n",
       "      <td>44</td>\n",
       "      <td>0.05</td>\n",
       "      <td>4673</td>\n",
       "      <td>31</td>\n",
       "      <td>1</td>\n",
       "      <td>15.43</td>\n",
       "      <td>b</td>\n",
       "    </tr>\n",
       "    <tr>\n",
       "      <th>3</th>\n",
       "      <td>34</td>\n",
       "      <td>0.09</td>\n",
       "      <td>3372</td>\n",
       "      <td>56</td>\n",
       "      <td>2</td>\n",
       "      <td>13.58</td>\n",
       "      <td>b</td>\n",
       "    </tr>\n",
       "    <tr>\n",
       "      <th>4</th>\n",
       "      <td>49</td>\n",
       "      <td>0.04</td>\n",
       "      <td>6077</td>\n",
       "      <td>12</td>\n",
       "      <td>4</td>\n",
       "      <td>32.48</td>\n",
       "      <td>b</td>\n",
       "    </tr>\n",
       "  </tbody>\n",
       "</table>\n",
       "</div>"
      ],
      "text/plain": [
       "   age  rok_index  rok_summation  promo_value  event_value  conversion_ratio  \\\n",
       "0   18       0.03           7815           12            4             31.89   \n",
       "1   19       0.06           8468           12            0             24.85   \n",
       "2   44       0.05           4673           31            1             15.43   \n",
       "3   34       0.09           3372           56            2             13.58   \n",
       "4   49       0.04           6077           12            4             32.48   \n",
       "\n",
       "  predictions_svm  \n",
       "0               b  \n",
       "1               b  \n",
       "2               b  \n",
       "3               b  \n",
       "4               b  "
      ]
     },
     "execution_count": 54,
     "metadata": {},
     "output_type": "execute_result"
    }
   ],
   "source": [
    "df4['predictions_svm'] = preds_svm\n",
    "df4.head(5)"
   ]
  },
  {
   "cell_type": "markdown",
   "metadata": {},
   "source": [
    "# 3.4 Decision Tree"
   ]
  },
  {
   "cell_type": "code",
   "execution_count": 39,
   "metadata": {},
   "outputs": [
    {
     "data": {
      "text/plain": [
       "DecisionTreeClassifier(ccp_alpha=0.0, class_weight=None, criterion='gini',\n",
       "                       max_depth=3, max_features=None, max_leaf_nodes=None,\n",
       "                       min_impurity_decrease=0.0, min_impurity_split=None,\n",
       "                       min_samples_leaf=5, min_samples_split=2,\n",
       "                       min_weight_fraction_leaf=0.0, presort='deprecated',\n",
       "                       random_state=100, splitter='best')"
      ]
     },
     "execution_count": 39,
     "metadata": {},
     "output_type": "execute_result"
    }
   ],
   "source": [
    "clf_gini = DecisionTreeClassifier(criterion = \"gini\", random_state = 100,\n",
    "                               max_depth=3, min_samples_leaf=5)\n",
    "clf_gini.fit(X_train, y_train)"
   ]
  },
  {
   "cell_type": "code",
   "execution_count": 40,
   "metadata": {},
   "outputs": [
    {
     "name": "stdout",
     "output_type": "stream",
     "text": [
      "Accuracy Score on test data set: 0.36666666666666664\n"
     ]
    }
   ],
   "source": [
    "y_pred_dt = clf_gini.predict(X_test)\n",
    "test_score_dt = accuracy_score(y_test, y_pred_dt)\n",
    "print('Accuracy Score on test data set:', test_score_dt)"
   ]
  },
  {
   "cell_type": "code",
   "execution_count": 42,
   "metadata": {},
   "outputs": [],
   "source": [
    "columns = ['age' , 'rok_index' , 'rok_summation' , 'promo_value' , 'event_value' ,\n",
    "'conversion_ratio']\n",
    "\n",
    "df5=pd.read_csv(\"data.test\", header = None, names = columns)\n",
    "dataTrain_dt = df5.values\n",
    "predictions_dt = clf_gini.predict(dataTrain_dt)"
   ]
  },
  {
   "cell_type": "code",
   "execution_count": 43,
   "metadata": {},
   "outputs": [
    {
     "data": {
      "text/plain": [
       "array([2, 2, 1, 2, 2, 1, 2, 2, 2, 2, 1, 1, 2, 1, 1, 1, 2, 2, 2, 1, 1, 1,\n",
       "       3, 2, 2, 2, 2, 1, 1, 1, 1, 2, 3, 2, 2, 3, 2, 2, 2, 1, 3, 2, 2, 3,\n",
       "       2, 2, 1, 1, 2, 1, 2, 2, 2, 1, 1, 1, 2, 2, 2, 2, 3, 2, 1, 2, 2, 2,\n",
       "       1, 1, 1, 1, 2, 1, 2, 2, 1, 2, 2, 2, 1, 3, 3, 2, 1, 2, 2, 1, 2, 1,\n",
       "       1, 2, 1, 2, 2, 2, 2, 2, 2, 2, 1, 1, 2, 2, 2, 2, 2, 2, 2, 2, 1, 1,\n",
       "       2, 2, 2, 2, 1, 1, 2, 2, 1, 2, 1, 1, 1, 1, 2, 1, 2, 1, 2, 3, 1, 2,\n",
       "       2, 1, 2, 1, 1, 1, 2, 1, 3, 2, 2, 1, 1, 1, 2, 2, 1, 1], dtype=int64)"
      ]
     },
     "execution_count": 43,
     "metadata": {},
     "output_type": "execute_result"
    }
   ],
   "source": [
    "predictions_dt"
   ]
  },
  {
   "cell_type": "code",
   "execution_count": 45,
   "metadata": {},
   "outputs": [],
   "source": [
    "labelDict_dt = {\n",
    "    1 : 'a',\n",
    "    2 : 'b',\n",
    "    3 : 'c'\n",
    "}\n",
    "preds_dt = []\n",
    "\n",
    "for predict_dt in predictions_dt:\n",
    "  preds_dt.append(labelDict_dt[predict_dt])\n",
    "  \n"
   ]
  },
  {
   "cell_type": "code",
   "execution_count": 47,
   "metadata": {},
   "outputs": [
    {
     "data": {
      "text/html": [
       "<div>\n",
       "<style scoped>\n",
       "    .dataframe tbody tr th:only-of-type {\n",
       "        vertical-align: middle;\n",
       "    }\n",
       "\n",
       "    .dataframe tbody tr th {\n",
       "        vertical-align: top;\n",
       "    }\n",
       "\n",
       "    .dataframe thead th {\n",
       "        text-align: right;\n",
       "    }\n",
       "</style>\n",
       "<table border=\"1\" class=\"dataframe\">\n",
       "  <thead>\n",
       "    <tr style=\"text-align: right;\">\n",
       "      <th></th>\n",
       "      <th>age</th>\n",
       "      <th>rok_index</th>\n",
       "      <th>rok_summation</th>\n",
       "      <th>promo_value</th>\n",
       "      <th>event_value</th>\n",
       "      <th>conversion_ratio</th>\n",
       "      <th>predictions_dt</th>\n",
       "    </tr>\n",
       "  </thead>\n",
       "  <tbody>\n",
       "    <tr>\n",
       "      <th>0</th>\n",
       "      <td>18</td>\n",
       "      <td>0.03</td>\n",
       "      <td>7815</td>\n",
       "      <td>12</td>\n",
       "      <td>4</td>\n",
       "      <td>31.89</td>\n",
       "      <td>b</td>\n",
       "    </tr>\n",
       "    <tr>\n",
       "      <th>1</th>\n",
       "      <td>19</td>\n",
       "      <td>0.06</td>\n",
       "      <td>8468</td>\n",
       "      <td>12</td>\n",
       "      <td>0</td>\n",
       "      <td>24.85</td>\n",
       "      <td>b</td>\n",
       "    </tr>\n",
       "    <tr>\n",
       "      <th>2</th>\n",
       "      <td>44</td>\n",
       "      <td>0.05</td>\n",
       "      <td>4673</td>\n",
       "      <td>31</td>\n",
       "      <td>1</td>\n",
       "      <td>15.43</td>\n",
       "      <td>a</td>\n",
       "    </tr>\n",
       "    <tr>\n",
       "      <th>3</th>\n",
       "      <td>34</td>\n",
       "      <td>0.09</td>\n",
       "      <td>3372</td>\n",
       "      <td>56</td>\n",
       "      <td>2</td>\n",
       "      <td>13.58</td>\n",
       "      <td>b</td>\n",
       "    </tr>\n",
       "    <tr>\n",
       "      <th>4</th>\n",
       "      <td>49</td>\n",
       "      <td>0.04</td>\n",
       "      <td>6077</td>\n",
       "      <td>12</td>\n",
       "      <td>4</td>\n",
       "      <td>32.48</td>\n",
       "      <td>b</td>\n",
       "    </tr>\n",
       "    <tr>\n",
       "      <th>5</th>\n",
       "      <td>39</td>\n",
       "      <td>0.02</td>\n",
       "      <td>1082</td>\n",
       "      <td>31</td>\n",
       "      <td>2</td>\n",
       "      <td>27.28</td>\n",
       "      <td>a</td>\n",
       "    </tr>\n",
       "    <tr>\n",
       "      <th>6</th>\n",
       "      <td>20</td>\n",
       "      <td>0.08</td>\n",
       "      <td>6629</td>\n",
       "      <td>42</td>\n",
       "      <td>4</td>\n",
       "      <td>33.52</td>\n",
       "      <td>b</td>\n",
       "    </tr>\n",
       "    <tr>\n",
       "      <th>7</th>\n",
       "      <td>30</td>\n",
       "      <td>0.04</td>\n",
       "      <td>6660</td>\n",
       "      <td>12</td>\n",
       "      <td>4</td>\n",
       "      <td>24.19</td>\n",
       "      <td>b</td>\n",
       "    </tr>\n",
       "    <tr>\n",
       "      <th>8</th>\n",
       "      <td>47</td>\n",
       "      <td>0.04</td>\n",
       "      <td>4611</td>\n",
       "      <td>42</td>\n",
       "      <td>1</td>\n",
       "      <td>14.56</td>\n",
       "      <td>b</td>\n",
       "    </tr>\n",
       "    <tr>\n",
       "      <th>9</th>\n",
       "      <td>20</td>\n",
       "      <td>0.07</td>\n",
       "      <td>6343</td>\n",
       "      <td>34</td>\n",
       "      <td>3</td>\n",
       "      <td>32.40</td>\n",
       "      <td>b</td>\n",
       "    </tr>\n",
       "  </tbody>\n",
       "</table>\n",
       "</div>"
      ],
      "text/plain": [
       "   age  rok_index  rok_summation  promo_value  event_value  conversion_ratio  \\\n",
       "0   18       0.03           7815           12            4             31.89   \n",
       "1   19       0.06           8468           12            0             24.85   \n",
       "2   44       0.05           4673           31            1             15.43   \n",
       "3   34       0.09           3372           56            2             13.58   \n",
       "4   49       0.04           6077           12            4             32.48   \n",
       "5   39       0.02           1082           31            2             27.28   \n",
       "6   20       0.08           6629           42            4             33.52   \n",
       "7   30       0.04           6660           12            4             24.19   \n",
       "8   47       0.04           4611           42            1             14.56   \n",
       "9   20       0.07           6343           34            3             32.40   \n",
       "\n",
       "  predictions_dt  \n",
       "0              b  \n",
       "1              b  \n",
       "2              a  \n",
       "3              b  \n",
       "4              b  \n",
       "5              a  \n",
       "6              b  \n",
       "7              b  \n",
       "8              b  \n",
       "9              b  "
      ]
     },
     "execution_count": 47,
     "metadata": {},
     "output_type": "execute_result"
    }
   ],
   "source": [
    "df5['predictions_dt'] = preds_dt\n",
    "df5.head(10)"
   ]
  },
  {
   "cell_type": "markdown",
   "metadata": {},
   "source": [
    "# 3.5 Random Forest classifier"
   ]
  },
  {
   "cell_type": "code",
   "execution_count": 64,
   "metadata": {},
   "outputs": [
    {
     "name": "stdout",
     "output_type": "stream",
     "text": [
      "Accuracy Score on test data set: 0.21666666666666667\n"
     ]
    }
   ],
   "source": [
    "rfc=RandomForestClassifier(max_depth=2, random_state=0)\n",
    "rfc.fit(X_train, y_train)\n",
    "y_pred_rfc = rfc.predict(X_test)\n",
    "test_score_rfc = accuracy_score(y_test, y_pred_rfc)\n",
    "print('Accuracy Score on test data set:', test_score_rfc)"
   ]
  },
  {
   "cell_type": "code",
   "execution_count": 65,
   "metadata": {},
   "outputs": [],
   "source": [
    "columns = ['age' , 'rok_index' , 'rok_summation' , 'promo_value' , 'event_value' ,\n",
    "'conversion_ratio']\n",
    "\n",
    "df6=pd.read_csv(\"data.test\", header = None, names = columns)\n",
    "dataTrain_rfc = df6.values\n",
    "predictions_rfc = rfc.predict(dataTrain_rfc)"
   ]
  },
  {
   "cell_type": "code",
   "execution_count": 66,
   "metadata": {},
   "outputs": [
    {
     "data": {
      "text/plain": [
       "array([2, 1, 1, 1, 2, 1, 2, 2, 1, 2, 2, 2, 1, 1, 2, 2, 2, 2, 2, 1, 1, 1,\n",
       "       3, 2, 1, 2, 1, 3, 1, 3, 2, 2, 3, 2, 1, 3, 3, 1, 1, 1, 2, 1, 2, 2,\n",
       "       2, 2, 3, 2, 1, 1, 2, 3, 2, 3, 1, 1, 2, 2, 1, 2, 3, 3, 3, 2, 2, 1,\n",
       "       1, 1, 2, 3, 2, 1, 1, 1, 1, 1, 1, 2, 1, 3, 3, 2, 1, 2, 2, 2, 1, 1,\n",
       "       3, 2, 2, 2, 2, 2, 1, 1, 2, 1, 2, 1, 2, 1, 2, 2, 2, 2, 1, 2, 1, 1,\n",
       "       1, 2, 2, 2, 2, 3, 2, 1, 2, 1, 1, 1, 2, 1, 2, 2, 2, 1, 1, 3, 1, 1,\n",
       "       1, 2, 1, 1, 1, 2, 1, 1, 2, 1, 1, 2, 1, 2, 1, 2, 1, 1], dtype=int64)"
      ]
     },
     "execution_count": 66,
     "metadata": {},
     "output_type": "execute_result"
    }
   ],
   "source": [
    "predictions_rfc"
   ]
  },
  {
   "cell_type": "code",
   "execution_count": 67,
   "metadata": {},
   "outputs": [],
   "source": [
    "labelDict_rfc = {\n",
    "    1 : 'a',\n",
    "    2 : 'b',\n",
    "    3 : 'c'\n",
    "}\n",
    "preds_rfc = []\n",
    "\n",
    "for predict_rfc in predictions_rfc:\n",
    "  preds_rfc.append(labelDict_rfc[predict_rfc])\n",
    "  "
   ]
  },
  {
   "cell_type": "code",
   "execution_count": 68,
   "metadata": {},
   "outputs": [
    {
     "data": {
      "text/html": [
       "<div>\n",
       "<style scoped>\n",
       "    .dataframe tbody tr th:only-of-type {\n",
       "        vertical-align: middle;\n",
       "    }\n",
       "\n",
       "    .dataframe tbody tr th {\n",
       "        vertical-align: top;\n",
       "    }\n",
       "\n",
       "    .dataframe thead th {\n",
       "        text-align: right;\n",
       "    }\n",
       "</style>\n",
       "<table border=\"1\" class=\"dataframe\">\n",
       "  <thead>\n",
       "    <tr style=\"text-align: right;\">\n",
       "      <th></th>\n",
       "      <th>age</th>\n",
       "      <th>rok_index</th>\n",
       "      <th>rok_summation</th>\n",
       "      <th>promo_value</th>\n",
       "      <th>event_value</th>\n",
       "      <th>conversion_ratio</th>\n",
       "      <th>predictions_rfc</th>\n",
       "    </tr>\n",
       "  </thead>\n",
       "  <tbody>\n",
       "    <tr>\n",
       "      <th>0</th>\n",
       "      <td>18</td>\n",
       "      <td>0.03</td>\n",
       "      <td>7815</td>\n",
       "      <td>12</td>\n",
       "      <td>4</td>\n",
       "      <td>31.89</td>\n",
       "      <td>b</td>\n",
       "    </tr>\n",
       "    <tr>\n",
       "      <th>1</th>\n",
       "      <td>19</td>\n",
       "      <td>0.06</td>\n",
       "      <td>8468</td>\n",
       "      <td>12</td>\n",
       "      <td>0</td>\n",
       "      <td>24.85</td>\n",
       "      <td>a</td>\n",
       "    </tr>\n",
       "    <tr>\n",
       "      <th>2</th>\n",
       "      <td>44</td>\n",
       "      <td>0.05</td>\n",
       "      <td>4673</td>\n",
       "      <td>31</td>\n",
       "      <td>1</td>\n",
       "      <td>15.43</td>\n",
       "      <td>a</td>\n",
       "    </tr>\n",
       "    <tr>\n",
       "      <th>3</th>\n",
       "      <td>34</td>\n",
       "      <td>0.09</td>\n",
       "      <td>3372</td>\n",
       "      <td>56</td>\n",
       "      <td>2</td>\n",
       "      <td>13.58</td>\n",
       "      <td>a</td>\n",
       "    </tr>\n",
       "    <tr>\n",
       "      <th>4</th>\n",
       "      <td>49</td>\n",
       "      <td>0.04</td>\n",
       "      <td>6077</td>\n",
       "      <td>12</td>\n",
       "      <td>4</td>\n",
       "      <td>32.48</td>\n",
       "      <td>b</td>\n",
       "    </tr>\n",
       "    <tr>\n",
       "      <th>5</th>\n",
       "      <td>39</td>\n",
       "      <td>0.02</td>\n",
       "      <td>1082</td>\n",
       "      <td>31</td>\n",
       "      <td>2</td>\n",
       "      <td>27.28</td>\n",
       "      <td>a</td>\n",
       "    </tr>\n",
       "    <tr>\n",
       "      <th>6</th>\n",
       "      <td>20</td>\n",
       "      <td>0.08</td>\n",
       "      <td>6629</td>\n",
       "      <td>42</td>\n",
       "      <td>4</td>\n",
       "      <td>33.52</td>\n",
       "      <td>b</td>\n",
       "    </tr>\n",
       "    <tr>\n",
       "      <th>7</th>\n",
       "      <td>30</td>\n",
       "      <td>0.04</td>\n",
       "      <td>6660</td>\n",
       "      <td>12</td>\n",
       "      <td>4</td>\n",
       "      <td>24.19</td>\n",
       "      <td>b</td>\n",
       "    </tr>\n",
       "    <tr>\n",
       "      <th>8</th>\n",
       "      <td>47</td>\n",
       "      <td>0.04</td>\n",
       "      <td>4611</td>\n",
       "      <td>42</td>\n",
       "      <td>1</td>\n",
       "      <td>14.56</td>\n",
       "      <td>a</td>\n",
       "    </tr>\n",
       "    <tr>\n",
       "      <th>9</th>\n",
       "      <td>20</td>\n",
       "      <td>0.07</td>\n",
       "      <td>6343</td>\n",
       "      <td>34</td>\n",
       "      <td>3</td>\n",
       "      <td>32.40</td>\n",
       "      <td>b</td>\n",
       "    </tr>\n",
       "  </tbody>\n",
       "</table>\n",
       "</div>"
      ],
      "text/plain": [
       "   age  rok_index  rok_summation  promo_value  event_value  conversion_ratio  \\\n",
       "0   18       0.03           7815           12            4             31.89   \n",
       "1   19       0.06           8468           12            0             24.85   \n",
       "2   44       0.05           4673           31            1             15.43   \n",
       "3   34       0.09           3372           56            2             13.58   \n",
       "4   49       0.04           6077           12            4             32.48   \n",
       "5   39       0.02           1082           31            2             27.28   \n",
       "6   20       0.08           6629           42            4             33.52   \n",
       "7   30       0.04           6660           12            4             24.19   \n",
       "8   47       0.04           4611           42            1             14.56   \n",
       "9   20       0.07           6343           34            3             32.40   \n",
       "\n",
       "  predictions_rfc  \n",
       "0               b  \n",
       "1               a  \n",
       "2               a  \n",
       "3               a  \n",
       "4               b  \n",
       "5               a  \n",
       "6               b  \n",
       "7               b  \n",
       "8               a  \n",
       "9               b  "
      ]
     },
     "execution_count": 68,
     "metadata": {},
     "output_type": "execute_result"
    }
   ],
   "source": [
    "df6['predictions_rfc'] = preds_rfc\n",
    "df6.head(10)"
   ]
  },
  {
   "cell_type": "markdown",
   "metadata": {},
   "source": [
    "# 3.6 Gradient Boosting Classifier"
   ]
  },
  {
   "cell_type": "code",
   "execution_count": 83,
   "metadata": {},
   "outputs": [
    {
     "name": "stdout",
     "output_type": "stream",
     "text": [
      "Learning rate:  0.05\n",
      "Accuracy score (training): 0.558\n",
      "Learning rate:  0.075\n",
      "Accuracy score (training): 0.583\n",
      "Learning rate:  0.1\n",
      "Accuracy score (training): 0.600\n",
      "Learning rate:  0.25\n",
      "Accuracy score (training): 0.696\n",
      "Learning rate:  0.5\n",
      "Accuracy score (training): 0.825\n",
      "Learning rate:  0.75\n",
      "Accuracy score (training): 0.879\n",
      "Learning rate:  1\n",
      "Accuracy score (training): 0.863\n"
     ]
    }
   ],
   "source": [
    "lr_list = [0.05, 0.075, 0.1, 0.25, 0.5, 0.75, 1]\n",
    "\n",
    "for learning_rate in lr_list:\n",
    "    gb_clf = GradientBoostingClassifier(n_estimators=20, learning_rate=learning_rate, max_features=2, max_depth=2, random_state=0)\n",
    "    gb_clf.fit(X_train, y_train)\n",
    "\n",
    "    print(\"Learning rate: \", learning_rate)\n",
    "    print(\"Accuracy score (training): {0:.3f}\".format(gb_clf.score(X_train, y_train)))"
   ]
  },
  {
   "cell_type": "code",
   "execution_count": 87,
   "metadata": {},
   "outputs": [
    {
     "name": "stdout",
     "output_type": "stream",
     "text": [
      "Accuracy Score on test data set: 0.36666666666666664\n"
     ]
    }
   ],
   "source": [
    "gb_clf = GradientBoostingClassifier(n_estimators=20, learning_rate=learning_rate, max_features=6, max_depth=2, random_state=0)\n",
    "gb_clf.fit(X_train, y_train)\n",
    "y_pred_gbc = gb_clf.predict(X_test)\n",
    "test_score_gbc = accuracy_score(y_test, y_pred_gbc)\n",
    "print('Accuracy Score on test data set:', test_score_gbc)"
   ]
  },
  {
   "cell_type": "code",
   "execution_count": 74,
   "metadata": {},
   "outputs": [],
   "source": [
    "columns = ['age' , 'rok_index' , 'rok_summation' , 'promo_value' , 'event_value' ,\n",
    "'conversion_ratio']\n",
    "\n",
    "df7=pd.read_csv(\"data.test\", header = None, names = columns)\n",
    "dataTrain_gbc = df7.values\n",
    "predictions_gbc = gb_clf.predict(dataTrain_gbc)"
   ]
  },
  {
   "cell_type": "code",
   "execution_count": 75,
   "metadata": {},
   "outputs": [
    {
     "data": {
      "text/plain": [
       "array([1, 1, 1, 1, 1, 2, 2, 2, 1, 1, 2, 1, 1, 1, 3, 2, 2, 1, 2, 2, 1, 1,\n",
       "       3, 2, 3, 2, 1, 2, 1, 3, 2, 2, 3, 3, 2, 3, 3, 1, 1, 2, 1, 2, 2, 3,\n",
       "       2, 2, 2, 2, 1, 1, 3, 2, 2, 3, 1, 1, 1, 2, 1, 1, 1, 2, 2, 3, 2, 3,\n",
       "       1, 1, 2, 2, 3, 1, 1, 1, 1, 1, 3, 2, 3, 3, 3, 2, 2, 2, 1, 2, 1, 1,\n",
       "       2, 1, 2, 3, 2, 3, 3, 1, 1, 2, 1, 1, 2, 1, 2, 1, 2, 1, 3, 2, 1, 1,\n",
       "       1, 2, 3, 1, 2, 2, 2, 1, 3, 1, 1, 1, 3, 3, 1, 1, 2, 3, 1, 3, 1, 1,\n",
       "       2, 3, 3, 1, 1, 2, 3, 2, 2, 1, 1, 1, 1, 2, 1, 2, 1, 1], dtype=int64)"
      ]
     },
     "execution_count": 75,
     "metadata": {},
     "output_type": "execute_result"
    }
   ],
   "source": [
    "predictions_gbc"
   ]
  },
  {
   "cell_type": "code",
   "execution_count": 78,
   "metadata": {},
   "outputs": [],
   "source": [
    "labelDict_gbc = {\n",
    "    1 : 'a',\n",
    "    2 : 'b',\n",
    "    3 : 'c'\n",
    "}\n",
    "preds_gbc = []\n",
    "\n",
    "for predict_gbc in predictions_gbc:\n",
    "  preds_gbc.append(labelDict_gbc[predict_gbc])"
   ]
  },
  {
   "cell_type": "code",
   "execution_count": 79,
   "metadata": {},
   "outputs": [
    {
     "data": {
      "text/html": [
       "<div>\n",
       "<style scoped>\n",
       "    .dataframe tbody tr th:only-of-type {\n",
       "        vertical-align: middle;\n",
       "    }\n",
       "\n",
       "    .dataframe tbody tr th {\n",
       "        vertical-align: top;\n",
       "    }\n",
       "\n",
       "    .dataframe thead th {\n",
       "        text-align: right;\n",
       "    }\n",
       "</style>\n",
       "<table border=\"1\" class=\"dataframe\">\n",
       "  <thead>\n",
       "    <tr style=\"text-align: right;\">\n",
       "      <th></th>\n",
       "      <th>age</th>\n",
       "      <th>rok_index</th>\n",
       "      <th>rok_summation</th>\n",
       "      <th>promo_value</th>\n",
       "      <th>event_value</th>\n",
       "      <th>conversion_ratio</th>\n",
       "      <th>predictions_gbc</th>\n",
       "    </tr>\n",
       "  </thead>\n",
       "  <tbody>\n",
       "    <tr>\n",
       "      <th>0</th>\n",
       "      <td>18</td>\n",
       "      <td>0.03</td>\n",
       "      <td>7815</td>\n",
       "      <td>12</td>\n",
       "      <td>4</td>\n",
       "      <td>31.89</td>\n",
       "      <td>a</td>\n",
       "    </tr>\n",
       "    <tr>\n",
       "      <th>1</th>\n",
       "      <td>19</td>\n",
       "      <td>0.06</td>\n",
       "      <td>8468</td>\n",
       "      <td>12</td>\n",
       "      <td>0</td>\n",
       "      <td>24.85</td>\n",
       "      <td>a</td>\n",
       "    </tr>\n",
       "    <tr>\n",
       "      <th>2</th>\n",
       "      <td>44</td>\n",
       "      <td>0.05</td>\n",
       "      <td>4673</td>\n",
       "      <td>31</td>\n",
       "      <td>1</td>\n",
       "      <td>15.43</td>\n",
       "      <td>a</td>\n",
       "    </tr>\n",
       "    <tr>\n",
       "      <th>3</th>\n",
       "      <td>34</td>\n",
       "      <td>0.09</td>\n",
       "      <td>3372</td>\n",
       "      <td>56</td>\n",
       "      <td>2</td>\n",
       "      <td>13.58</td>\n",
       "      <td>a</td>\n",
       "    </tr>\n",
       "    <tr>\n",
       "      <th>4</th>\n",
       "      <td>49</td>\n",
       "      <td>0.04</td>\n",
       "      <td>6077</td>\n",
       "      <td>12</td>\n",
       "      <td>4</td>\n",
       "      <td>32.48</td>\n",
       "      <td>a</td>\n",
       "    </tr>\n",
       "    <tr>\n",
       "      <th>5</th>\n",
       "      <td>39</td>\n",
       "      <td>0.02</td>\n",
       "      <td>1082</td>\n",
       "      <td>31</td>\n",
       "      <td>2</td>\n",
       "      <td>27.28</td>\n",
       "      <td>b</td>\n",
       "    </tr>\n",
       "    <tr>\n",
       "      <th>6</th>\n",
       "      <td>20</td>\n",
       "      <td>0.08</td>\n",
       "      <td>6629</td>\n",
       "      <td>42</td>\n",
       "      <td>4</td>\n",
       "      <td>33.52</td>\n",
       "      <td>b</td>\n",
       "    </tr>\n",
       "    <tr>\n",
       "      <th>7</th>\n",
       "      <td>30</td>\n",
       "      <td>0.04</td>\n",
       "      <td>6660</td>\n",
       "      <td>12</td>\n",
       "      <td>4</td>\n",
       "      <td>24.19</td>\n",
       "      <td>b</td>\n",
       "    </tr>\n",
       "    <tr>\n",
       "      <th>8</th>\n",
       "      <td>47</td>\n",
       "      <td>0.04</td>\n",
       "      <td>4611</td>\n",
       "      <td>42</td>\n",
       "      <td>1</td>\n",
       "      <td>14.56</td>\n",
       "      <td>a</td>\n",
       "    </tr>\n",
       "    <tr>\n",
       "      <th>9</th>\n",
       "      <td>20</td>\n",
       "      <td>0.07</td>\n",
       "      <td>6343</td>\n",
       "      <td>34</td>\n",
       "      <td>3</td>\n",
       "      <td>32.40</td>\n",
       "      <td>a</td>\n",
       "    </tr>\n",
       "  </tbody>\n",
       "</table>\n",
       "</div>"
      ],
      "text/plain": [
       "   age  rok_index  rok_summation  promo_value  event_value  conversion_ratio  \\\n",
       "0   18       0.03           7815           12            4             31.89   \n",
       "1   19       0.06           8468           12            0             24.85   \n",
       "2   44       0.05           4673           31            1             15.43   \n",
       "3   34       0.09           3372           56            2             13.58   \n",
       "4   49       0.04           6077           12            4             32.48   \n",
       "5   39       0.02           1082           31            2             27.28   \n",
       "6   20       0.08           6629           42            4             33.52   \n",
       "7   30       0.04           6660           12            4             24.19   \n",
       "8   47       0.04           4611           42            1             14.56   \n",
       "9   20       0.07           6343           34            3             32.40   \n",
       "\n",
       "  predictions_gbc  \n",
       "0               a  \n",
       "1               a  \n",
       "2               a  \n",
       "3               a  \n",
       "4               a  \n",
       "5               b  \n",
       "6               b  \n",
       "7               b  \n",
       "8               a  \n",
       "9               a  "
      ]
     },
     "execution_count": 79,
     "metadata": {},
     "output_type": "execute_result"
    }
   ],
   "source": [
    "df7['predictions_gbc'] = preds_gbc\n",
    "df7.head(10)"
   ]
  },
  {
   "cell_type": "markdown",
   "metadata": {},
   "source": [
    "# MLP Classifier"
   ]
  },
  {
   "cell_type": "code",
   "execution_count": 95,
   "metadata": {},
   "outputs": [],
   "source": [
    "from sklearn.neural_network import MLPClassifier\n",
    "from sklearn import preprocessing\n",
    "mm_scaler = preprocessing.MinMaxScaler()\n",
    "X_train_minmax = mm_scaler.fit_transform(X_train)\n",
    "X_test_minmax = mm_scaler.transform(X_test)"
   ]
  },
  {
   "cell_type": "code",
   "execution_count": 96,
   "metadata": {},
   "outputs": [
    {
     "name": "stdout",
     "output_type": "stream",
     "text": [
      "Accuracy Score on test data set: 0.2833333333333333\n"
     ]
    }
   ],
   "source": [
    "mlp =  MLPClassifier()\n",
    "mlp.fit(X_train_minmax, y_train)\n",
    "y_pred = mlp.predict(X_test_minmax)\n",
    "test_score = accuracy_score(y_test, y_pred)\n",
    "print('Accuracy Score on test data set:', test_score)"
   ]
  },
  {
   "cell_type": "code",
   "execution_count": 97,
   "metadata": {},
   "outputs": [],
   "source": [
    "columns = ['age' , 'rok_index' , 'rok_summation' , 'promo_value' , 'event_value' ,\n",
    "'conversion_ratio']\n",
    "\n",
    "df8=pd.read_csv(\"data.test\", header = None, names = columns)\n",
    "dataTrain_mlp = df8.values\n",
    "predictions_mlp = gb_clf.predict(dataTrain_mlp)"
   ]
  },
  {
   "cell_type": "code",
   "execution_count": 98,
   "metadata": {},
   "outputs": [
    {
     "data": {
      "text/plain": [
       "array([2, 1, 1, 2, 3, 3, 3, 2, 1, 1, 2, 1, 3, 1, 1, 1, 3, 1, 2, 2, 1, 1,\n",
       "       3, 2, 1, 2, 3, 3, 1, 3, 2, 2, 3, 3, 2, 2, 3, 1, 2, 1, 3, 1, 2, 3,\n",
       "       1, 2, 3, 2, 1, 3, 3, 1, 1, 3, 1, 1, 2, 2, 3, 2, 3, 2, 2, 3, 1, 1,\n",
       "       1, 1, 3, 1, 2, 1, 1, 1, 1, 1, 3, 2, 1, 3, 2, 2, 2, 1, 3, 2, 1, 1,\n",
       "       3, 1, 2, 3, 2, 2, 1, 1, 2, 1, 1, 2, 3, 3, 2, 2, 2, 3, 3, 1, 1, 1,\n",
       "       1, 2, 1, 1, 2, 3, 1, 3, 2, 2, 1, 1, 2, 1, 2, 1, 2, 3, 1, 3, 3, 2,\n",
       "       1, 3, 3, 3, 1, 2, 3, 2, 2, 1, 2, 3, 3, 2, 1, 2, 1, 1], dtype=int64)"
      ]
     },
     "execution_count": 98,
     "metadata": {},
     "output_type": "execute_result"
    }
   ],
   "source": [
    "predictions_mlp"
   ]
  },
  {
   "cell_type": "code",
   "execution_count": 99,
   "metadata": {},
   "outputs": [],
   "source": [
    "labelDict_mlp = {\n",
    "    1 : 'a',\n",
    "    2 : 'b',\n",
    "    3 : 'c'\n",
    "}\n",
    "preds_mlp = []\n",
    "\n",
    "for predict_mlp in predictions_mlp:\n",
    "  preds_mlp.append(labelDict_gbc[predict_mlp])"
   ]
  },
  {
   "cell_type": "code",
   "execution_count": 101,
   "metadata": {},
   "outputs": [
    {
     "data": {
      "text/html": [
       "<div>\n",
       "<style scoped>\n",
       "    .dataframe tbody tr th:only-of-type {\n",
       "        vertical-align: middle;\n",
       "    }\n",
       "\n",
       "    .dataframe tbody tr th {\n",
       "        vertical-align: top;\n",
       "    }\n",
       "\n",
       "    .dataframe thead th {\n",
       "        text-align: right;\n",
       "    }\n",
       "</style>\n",
       "<table border=\"1\" class=\"dataframe\">\n",
       "  <thead>\n",
       "    <tr style=\"text-align: right;\">\n",
       "      <th></th>\n",
       "      <th>age</th>\n",
       "      <th>rok_index</th>\n",
       "      <th>rok_summation</th>\n",
       "      <th>promo_value</th>\n",
       "      <th>event_value</th>\n",
       "      <th>conversion_ratio</th>\n",
       "      <th>predictions_gbc</th>\n",
       "      <th>predictions_mlp</th>\n",
       "    </tr>\n",
       "  </thead>\n",
       "  <tbody>\n",
       "    <tr>\n",
       "      <th>0</th>\n",
       "      <td>18</td>\n",
       "      <td>0.03</td>\n",
       "      <td>7815</td>\n",
       "      <td>12</td>\n",
       "      <td>4</td>\n",
       "      <td>31.89</td>\n",
       "      <td>a</td>\n",
       "      <td>b</td>\n",
       "    </tr>\n",
       "    <tr>\n",
       "      <th>1</th>\n",
       "      <td>19</td>\n",
       "      <td>0.06</td>\n",
       "      <td>8468</td>\n",
       "      <td>12</td>\n",
       "      <td>0</td>\n",
       "      <td>24.85</td>\n",
       "      <td>a</td>\n",
       "      <td>a</td>\n",
       "    </tr>\n",
       "    <tr>\n",
       "      <th>2</th>\n",
       "      <td>44</td>\n",
       "      <td>0.05</td>\n",
       "      <td>4673</td>\n",
       "      <td>31</td>\n",
       "      <td>1</td>\n",
       "      <td>15.43</td>\n",
       "      <td>a</td>\n",
       "      <td>a</td>\n",
       "    </tr>\n",
       "    <tr>\n",
       "      <th>3</th>\n",
       "      <td>34</td>\n",
       "      <td>0.09</td>\n",
       "      <td>3372</td>\n",
       "      <td>56</td>\n",
       "      <td>2</td>\n",
       "      <td>13.58</td>\n",
       "      <td>a</td>\n",
       "      <td>b</td>\n",
       "    </tr>\n",
       "    <tr>\n",
       "      <th>4</th>\n",
       "      <td>49</td>\n",
       "      <td>0.04</td>\n",
       "      <td>6077</td>\n",
       "      <td>12</td>\n",
       "      <td>4</td>\n",
       "      <td>32.48</td>\n",
       "      <td>a</td>\n",
       "      <td>c</td>\n",
       "    </tr>\n",
       "    <tr>\n",
       "      <th>5</th>\n",
       "      <td>39</td>\n",
       "      <td>0.02</td>\n",
       "      <td>1082</td>\n",
       "      <td>31</td>\n",
       "      <td>2</td>\n",
       "      <td>27.28</td>\n",
       "      <td>b</td>\n",
       "      <td>c</td>\n",
       "    </tr>\n",
       "    <tr>\n",
       "      <th>6</th>\n",
       "      <td>20</td>\n",
       "      <td>0.08</td>\n",
       "      <td>6629</td>\n",
       "      <td>42</td>\n",
       "      <td>4</td>\n",
       "      <td>33.52</td>\n",
       "      <td>b</td>\n",
       "      <td>c</td>\n",
       "    </tr>\n",
       "    <tr>\n",
       "      <th>7</th>\n",
       "      <td>30</td>\n",
       "      <td>0.04</td>\n",
       "      <td>6660</td>\n",
       "      <td>12</td>\n",
       "      <td>4</td>\n",
       "      <td>24.19</td>\n",
       "      <td>b</td>\n",
       "      <td>b</td>\n",
       "    </tr>\n",
       "    <tr>\n",
       "      <th>8</th>\n",
       "      <td>47</td>\n",
       "      <td>0.04</td>\n",
       "      <td>4611</td>\n",
       "      <td>42</td>\n",
       "      <td>1</td>\n",
       "      <td>14.56</td>\n",
       "      <td>a</td>\n",
       "      <td>a</td>\n",
       "    </tr>\n",
       "    <tr>\n",
       "      <th>9</th>\n",
       "      <td>20</td>\n",
       "      <td>0.07</td>\n",
       "      <td>6343</td>\n",
       "      <td>34</td>\n",
       "      <td>3</td>\n",
       "      <td>32.40</td>\n",
       "      <td>a</td>\n",
       "      <td>a</td>\n",
       "    </tr>\n",
       "  </tbody>\n",
       "</table>\n",
       "</div>"
      ],
      "text/plain": [
       "   age  rok_index  rok_summation  promo_value  event_value  conversion_ratio  \\\n",
       "0   18       0.03           7815           12            4             31.89   \n",
       "1   19       0.06           8468           12            0             24.85   \n",
       "2   44       0.05           4673           31            1             15.43   \n",
       "3   34       0.09           3372           56            2             13.58   \n",
       "4   49       0.04           6077           12            4             32.48   \n",
       "5   39       0.02           1082           31            2             27.28   \n",
       "6   20       0.08           6629           42            4             33.52   \n",
       "7   30       0.04           6660           12            4             24.19   \n",
       "8   47       0.04           4611           42            1             14.56   \n",
       "9   20       0.07           6343           34            3             32.40   \n",
       "\n",
       "  predictions_gbc predictions_mlp  \n",
       "0               a               b  \n",
       "1               a               a  \n",
       "2               a               a  \n",
       "3               a               b  \n",
       "4               a               c  \n",
       "5               b               c  \n",
       "6               b               c  \n",
       "7               b               b  \n",
       "8               a               a  \n",
       "9               a               a  "
      ]
     },
     "execution_count": 101,
     "metadata": {},
     "output_type": "execute_result"
    }
   ],
   "source": [
    "df8['predictions_mlp'] = preds_mlp\n",
    "df8.head(10)"
   ]
  },
  {
   "cell_type": "markdown",
   "metadata": {},
   "source": [
    "# Neural Network Structure #Extra"
   ]
  },
  {
   "cell_type": "code",
   "execution_count": 137,
   "metadata": {},
   "outputs": [],
   "source": [
    "import keras\n",
    "from keras import backend as K\n",
    "from keras.models import Sequential\n",
    "from keras.layers import Activation\n",
    "from keras.layers.core import Dense\n",
    "from keras.optimizers import Adam\n",
    "from keras.metrics import categorical_crossentropy\n",
    "\n",
    "n_inputs = X_train.shape[1]\n",
    "\n",
    "undersample_model = Sequential([\n",
    "    Dense(n_inputs, input_shape=(n_inputs, ), activation='relu'),\n",
    "    Dense(32, activation='relu'),\n",
    "    Dense(7, activation='softmax')\n",
    "])"
   ]
  },
  {
   "cell_type": "code",
   "execution_count": 138,
   "metadata": {},
   "outputs": [
    {
     "name": "stdout",
     "output_type": "stream",
     "text": [
      "Model: \"sequential_5\"\n",
      "_________________________________________________________________\n",
      "Layer (type)                 Output Shape              Param #   \n",
      "=================================================================\n",
      "dense_13 (Dense)             (None, 6)                 42        \n",
      "_________________________________________________________________\n",
      "dense_14 (Dense)             (None, 32)                224       \n",
      "_________________________________________________________________\n",
      "dense_15 (Dense)             (None, 7)                 231       \n",
      "=================================================================\n",
      "Total params: 497\n",
      "Trainable params: 497\n",
      "Non-trainable params: 0\n",
      "_________________________________________________________________\n"
     ]
    }
   ],
   "source": [
    "undersample_model.summary()"
   ]
  },
  {
   "cell_type": "code",
   "execution_count": 139,
   "metadata": {},
   "outputs": [],
   "source": [
    "undersample_model.compile(Adam(lr=0.001), loss='sparse_categorical_crossentropy', metrics=['accuracy'])"
   ]
  },
  {
   "cell_type": "code",
   "execution_count": 142,
   "metadata": {},
   "outputs": [
    {
     "name": "stdout",
     "output_type": "stream",
     "text": [
      "Train on 192 samples, validate on 48 samples\n",
      "Epoch 1/20\n",
      " - 0s - loss: 11.4170 - accuracy: 0.2917 - val_loss: 10.7454 - val_accuracy: 0.3333\n",
      "Epoch 2/20\n",
      " - 0s - loss: 11.4170 - accuracy: 0.2917 - val_loss: 10.7454 - val_accuracy: 0.3333\n",
      "Epoch 3/20\n",
      " - 0s - loss: 11.4170 - accuracy: 0.2917 - val_loss: 10.7454 - val_accuracy: 0.3333\n",
      "Epoch 4/20\n",
      " - 0s - loss: 11.4170 - accuracy: 0.2917 - val_loss: 10.7454 - val_accuracy: 0.3333\n",
      "Epoch 5/20\n",
      " - 0s - loss: 11.4170 - accuracy: 0.2917 - val_loss: 10.7454 - val_accuracy: 0.3333\n",
      "Epoch 6/20\n",
      " - 0s - loss: 11.4170 - accuracy: 0.2917 - val_loss: 10.7454 - val_accuracy: 0.3333\n",
      "Epoch 7/20\n",
      " - 0s - loss: 11.4170 - accuracy: 0.2917 - val_loss: 10.7454 - val_accuracy: 0.3333\n",
      "Epoch 8/20\n",
      " - 0s - loss: 11.4170 - accuracy: 0.2917 - val_loss: 10.7454 - val_accuracy: 0.3333\n",
      "Epoch 9/20\n",
      " - 0s - loss: 11.4170 - accuracy: 0.2917 - val_loss: 10.7454 - val_accuracy: 0.3333\n",
      "Epoch 10/20\n",
      " - 0s - loss: 11.4170 - accuracy: 0.2917 - val_loss: 10.7454 - val_accuracy: 0.3333\n",
      "Epoch 11/20\n",
      " - 0s - loss: 11.4170 - accuracy: 0.2917 - val_loss: 10.7454 - val_accuracy: 0.3333\n",
      "Epoch 12/20\n",
      " - 0s - loss: 11.4170 - accuracy: 0.2917 - val_loss: 10.7454 - val_accuracy: 0.3333\n",
      "Epoch 13/20\n",
      " - 0s - loss: 11.4170 - accuracy: 0.2917 - val_loss: 10.7454 - val_accuracy: 0.3333\n",
      "Epoch 14/20\n",
      " - 0s - loss: 11.4170 - accuracy: 0.2917 - val_loss: 10.7454 - val_accuracy: 0.3333\n",
      "Epoch 15/20\n",
      " - 0s - loss: 11.4170 - accuracy: 0.2917 - val_loss: 10.7454 - val_accuracy: 0.3333\n",
      "Epoch 16/20\n",
      " - 0s - loss: 11.4170 - accuracy: 0.2917 - val_loss: 10.7454 - val_accuracy: 0.3333\n",
      "Epoch 17/20\n",
      " - 0s - loss: 11.4170 - accuracy: 0.2917 - val_loss: 10.7454 - val_accuracy: 0.3333\n",
      "Epoch 18/20\n",
      " - 0s - loss: 11.4170 - accuracy: 0.2917 - val_loss: 10.7454 - val_accuracy: 0.3333\n",
      "Epoch 19/20\n",
      " - 0s - loss: 11.4170 - accuracy: 0.2917 - val_loss: 10.7454 - val_accuracy: 0.3333\n",
      "Epoch 20/20\n",
      " - 0s - loss: 11.4170 - accuracy: 0.2917 - val_loss: 10.7454 - val_accuracy: 0.3333\n"
     ]
    },
    {
     "data": {
      "text/plain": [
       "<keras.callbacks.callbacks.History at 0x2adcf3a74a8>"
      ]
     },
     "execution_count": 142,
     "metadata": {},
     "output_type": "execute_result"
    }
   ],
   "source": [
    "undersample_model.fit(X_train, y_train, validation_split=0.2, batch_size=25, epochs=20, shuffle=True, verbose=2)"
   ]
  },
  {
   "cell_type": "code",
   "execution_count": null,
   "metadata": {},
   "outputs": [],
   "source": []
  }
 ],
 "metadata": {
  "kernelspec": {
   "display_name": "Python 3",
   "language": "python",
   "name": "python3"
  },
  "language_info": {
   "codemirror_mode": {
    "name": "ipython",
    "version": 3
   },
   "file_extension": ".py",
   "mimetype": "text/x-python",
   "name": "python",
   "nbconvert_exporter": "python",
   "pygments_lexer": "ipython3",
   "version": "3.7.3"
  }
 },
 "nbformat": 4,
 "nbformat_minor": 2
}
